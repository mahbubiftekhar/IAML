{
 "cells": [
  {
   "cell_type": "markdown",
   "metadata": {},
   "source": [
    "# Introductory applied machine learning (INFR10069)"
   ]
  },
  {
   "cell_type": "markdown",
   "metadata": {},
   "source": [
    "# Assignment 3: Object recognition"
   ]
  },
  {
   "cell_type": "markdown",
   "metadata": {},
   "source": [
    "## Marking Breakdown\n",
    "\n",
    "**70-100%** results/answer correct plus extra achievement at understanding or analysis of results. Clear explanations, evidence of creative or deeper thought will contribute to a higher grade.\n",
    "\n",
    "**60-69%** results/answer correct or nearly correct and well explained.\n",
    "\n",
    "**50-59%** results/answer in right direction but significant errors.\n",
    "\n",
    "**40-49%** some evidence that the student has gained some understanding, but not answered the questions\n",
    "properly.\n",
    "\n",
    "**0-39%** serious error or slack work."
   ]
  },
  {
   "cell_type": "markdown",
   "metadata": {},
   "source": [
    "## Mechanics\n",
    "\n",
    "Fill out this notebook, save it, and submit it **and a `.txt` file** (see Part 2) in answer to this assignment.\n",
    "**You need to submit these two files electronically as described below.**\n",
    "\n",
    "On a DICE environment, open the terminal, navigate to the location of this notebook, and submit this notebook file using the following command:\n",
    "\n",
    "`submit iaml cw2 07_Assignment_3.ipynb assignment_3_predictions.txt`\n",
    "\n",
    "What actually happens in the background is that your file is placed in a folder available to markers. If you submit a file with the same name into the same location, **it will *overwrite* your previous submission**. You can check the status of your submissions with the `show_submissions` command.\n",
    "\n",
    "**Distance Learners:** To copy your work up to DICE (such that you can use the `submit` command) you can use `scp` or `rsync` (you may need to install these yourself). You can copy files up using `student.ssh.inf.ed.ac.uk`, then ssh in to submit, e.g. (in a unix terminal):\n",
    "```\n",
    "filename1=07_Assignment_3.ipynb\n",
    "local_scp_filepath1=~/git/iaml2017/${filename1}\n",
    "filename2=assignment_3_predictions.txt\n",
    "local_scp_filepath2=~/git/iaml2017/${filename2}\n",
    "UUN=s0816700\n",
    "server_address=student.ssh.inf.ed.ac.uk\n",
    "scp -r ${local_scp_filepath1} ${UUN}@${server_address}:${filename1}\n",
    "scp -r ${local_scp_filepath2} ${UUN}@${server_address}:${filename2}\n",
    "# rsync -rl ${local_scp_filepath1} ${UUN}@${server_address}:${filename1}\n",
    "# rsync -rl ${local_scp_filepath2} ${UUN}@${server_address}:${filename2}\n",
    "ssh ${UUN}@${server_address}\n",
    "ssh student.login\n",
    "submit iaml cw2 07_Assignment_3.ipynb assignment_3_predictions.txt\n",
    "```\n",
    "\n",
    "**Late submissions:** The policy stated in the School of Informatics MSc Degree Guide is that normally you will not be allowed to submit coursework late. See http://www.inf.ed.ac.uk/teaching/years/msc/courseguide10.html#exam for exceptions to this, e.g. in case of serious medical illness or serious personal problems.\n",
    "\n",
    "**Collaboration:** You may discuss the assignment with your colleagues, provided that the writing that you submit is entirely your own. That is, you should NOT borrow actual text or code from other students. We ask that you provide a list of the people who you've had discussions with (if any).\n",
    "\n",
    "**Resubmission:** If you submit your file again, the previous submission is **overwritten**. We will mark the version that is in the submission folder at the deadline."
   ]
  },
  {
   "cell_type": "markdown",
   "metadata": {},
   "source": [
    "## Important Instructions\n",
    "\n",
    "1. You *MUST* have your environment set up as in the [README](https://github.com/JamesOwers/iaml2017) and you *must activate this environment before running this notebook*:\n",
    "```\n",
    "source activate iaml\n",
    "cd iaml_2017\n",
    "jupyter notebook\n",
    "# Navigate to this file\n",
    "```\n",
    "\n",
    "1. Wherever you are required to produce code you should use code cells, otherwise you should use markdown cells to report results and explain answers.\n",
    "\n",
    "1. The .csv files that you will be using are located at `./datasets` (the `datasets` directory is adjacent to this file).\n",
    "\n",
    "1. **IMPORTANT:** Keep your answers brief and concise. Most written questions can be answered with 2-3 lines of explanation."
   ]
  },
  {
   "cell_type": "markdown",
   "metadata": {},
   "source": [
    "## Imports\n",
    "\n",
    "Include all required imports and execute the cell below. It's typical to include package imports at the top of the file for clarity."
   ]
  },
  {
   "cell_type": "code",
   "execution_count": 1,
   "metadata": {},
   "outputs": [],
   "source": [
    "from __future__ import print_function, division\n",
    "\n",
    "\n",
    "import os\n",
    "import numpy as np\n",
    "import pandas as pd\n",
    "import matplotlib.pyplot as plt\n",
    "from sklearn.metrics import r2_score, explained_variance_score, mean_absolute_error, mean_squared_error\n",
    "from sklearn.model_selection import train_test_split, KFold, cross_val_predict\n",
    "from sklearn.linear_model import LinearRegression\n",
    "\n",
    "from sklearn.tree import DecisionTreeRegressor\n",
    "from sklearn.ensemble import RandomForestRegressor\n",
    "import seaborn as sns\n",
    "\n",
    "from sklearn.dummy import DummyClassifier\n",
    "from sklearn.linear_model import LogisticRegression\n",
    "from sklearn import preprocessing\n",
    "from sklearn.preprocessing import StandardScaler\n",
    "from sklearn.metrics import accuracy_score, log_loss\n",
    "from sklearn.linear_model import LogisticRegressionCV\n",
    "from sklearn.ensemble import RandomForestClassifier\n",
    "from sklearn.datasets import make_classification\n",
    "from sklearn.svm import LinearSVC, SVC\n",
    "from sklearn.model_selection import cross_val_score\n",
    "\n",
    "from sklearn.naive_bayes import GaussianNB\n",
    "from sklearn.ensemble import RandomForestClassifier\n",
    "from sklearn.tree import DecisionTreeClassifier\n",
    "from sklearn.ensemble import ExtraTreesClassifier\n",
    "from sklearn.neighbors import KNeighborsClassifier\n",
    "\n",
    "\n",
    "\n",
    "%matplotlib inline\n",
    "\n"
   ]
  },
  {
   "cell_type": "markdown",
   "metadata": {},
   "source": [
    "## Description of the dataset\n",
    "In this assignment our goal is to recognize objects in images of realistic scenes. There are 19 different classes of object e.g. person, dog, cat, car, etc. The dataset derives from several thousands photographs harvested from the web. Each object of a relevant class has been manually annotated with a bounding box. Images can contain none, one or multiple objects of each class. We have prepared a [website](http://www.inf.ed.ac.uk/teaching/courses/iaml/2014/assts/asst3/images.html) where you can view the images.\n",
    "\n",
    "We are going to detect whether images contain a person or not - a binary classification problem. To save you time and to make the problem manageable with limited computational resources, we have preprocessed the dataset. We will use the [Bag of Visual Words](https://en.wikipedia.org/wiki/Bag-of-words_model_in_computer_vision) representation. Each column of the dataset (which is not an lable), refers to a 'visual word'. Each image is represented by a 500 dimensional vector that contains the normalized count for each of 500 different visual words present in the respective image (a similar representation is used for the spambase dataset, just for real words). See the Appendix at the bottom of the notebook for more information. The image data is thus a $N \\times 500$ dimensional matrix where `N` is the number of images.\n",
    "\n",
    "The full dataset has 520 attributes (dimensions). The first attribute (`imgID`) contains the image ID which allows you to associate a data point with an actual image. The next 500 attributes (`dim1`, ..., `dim500`) are a normalized count vector for each visual word. The last 19 attributes (`is_class`) are the labels - 1 means the class is present in the image. In most of the experiments (unless explicitly noted otherwise) you will only need the `is_person` attribute and the 500 dimensional feature vector. **Do not use the additional class indicator attributes as features** unless explicitly told to do so. \n",
    "\n",
    "In Part A we provide you with a training (`train_images partA.csv`) and a validation (`valid_images partA .csv`) dataset. In Part B we provide three data sets: a training set (`train_images partB.csv`), a validation set (`valid_images partB.csv`), and a test set (`test_images partB.csv`). The training and validation set contain valid labels. In the test set the labels are missing. The files are available from the GitHub repository. \n",
    "\n",
    "**Important**: *Throughout the assignment you will be given various versions of the dataset that are relevant\n",
    "to a particular question. Please be careful to use the correct version of the dataset when instructed to do so.\n",
    "If you use the wrong version of the dataset by mistake no marks will be awarded.*"
   ]
  },
  {
   "cell_type": "markdown",
   "metadata": {},
   "source": [
    "## 1. Exploration of the dataset [70%]"
   ]
  },
  {
   "cell_type": "markdown",
   "metadata": {},
   "source": [
    "### ========== Question 1.1 --- [1 mark] ==========\n",
    "Create two Pandas DataFrame objects called `train_A` and `valid_A` by loading the datasets `train_images_partA.csv` and `valid_images_partA.csv`. Display the number of data points and attributes in each of the two datasets."
   ]
  },
  {
   "cell_type": "code",
   "execution_count": 2,
   "metadata": {},
   "outputs": [
    {
     "name": "stdout",
     "output_type": "stream",
     "text": [
      "Data points for train_A: 2093\n",
      "Data points for valid_A: 1113\n"
     ]
    }
   ],
   "source": [
    "# Loading dataset\n",
    "images_TA = os.path.join(os.getcwd(), 'datasets', 'train_images_partA.csv')\n",
    "train_A = pd.read_csv(images_TA)\n",
    "\n",
    "images_VA = os.path.join(os.getcwd(), 'datasets', 'valid_images_partA.csv')\n",
    "valid_A = pd.read_csv(images_VA)\n",
    "\n",
    "# Data points\n",
    "print('Data points for train_A: {}''\\n''Data points for valid_A: {}'.format(train_A.shape[0], valid_A.shape[0]))\n"
   ]
  },
  {
   "cell_type": "markdown",
   "metadata": {},
   "source": [
    "### ========== Question 1.2 --- [1 mark] ==========\n",
    "Display and inspect the first 10 instances in the training dataset."
   ]
  },
  {
   "cell_type": "code",
   "execution_count": 3,
   "metadata": {},
   "outputs": [
    {
     "data": {
      "text/html": [
       "<div>\n",
       "<style>\n",
       "    .dataframe thead tr:only-child th {\n",
       "        text-align: right;\n",
       "    }\n",
       "\n",
       "    .dataframe thead th {\n",
       "        text-align: left;\n",
       "    }\n",
       "\n",
       "    .dataframe tbody tr th {\n",
       "        vertical-align: top;\n",
       "    }\n",
       "</style>\n",
       "<table border=\"1\" class=\"dataframe\">\n",
       "  <thead>\n",
       "    <tr style=\"text-align: right;\">\n",
       "      <th></th>\n",
       "      <th>dim1</th>\n",
       "      <th>dim2</th>\n",
       "      <th>dim3</th>\n",
       "      <th>dim4</th>\n",
       "      <th>dim5</th>\n",
       "      <th>dim6</th>\n",
       "      <th>dim7</th>\n",
       "      <th>dim8</th>\n",
       "      <th>dim9</th>\n",
       "      <th>dim10</th>\n",
       "      <th>...</th>\n",
       "      <th>is_cow</th>\n",
       "      <th>is_diningtable</th>\n",
       "      <th>is_dog</th>\n",
       "      <th>is_horse</th>\n",
       "      <th>is_motorbike</th>\n",
       "      <th>is_person</th>\n",
       "      <th>is_pottedplant</th>\n",
       "      <th>is_sheep</th>\n",
       "      <th>is_sofa</th>\n",
       "      <th>is_tvmonitor</th>\n",
       "    </tr>\n",
       "  </thead>\n",
       "  <tbody>\n",
       "    <tr>\n",
       "      <th>count</th>\n",
       "      <td>10.000000</td>\n",
       "      <td>10.000000</td>\n",
       "      <td>10.000000</td>\n",
       "      <td>10.000000</td>\n",
       "      <td>10.000000</td>\n",
       "      <td>10.000000</td>\n",
       "      <td>10.000000</td>\n",
       "      <td>10.000000</td>\n",
       "      <td>10.000000</td>\n",
       "      <td>10.000000</td>\n",
       "      <td>...</td>\n",
       "      <td>10.0</td>\n",
       "      <td>10.000000</td>\n",
       "      <td>10.000000</td>\n",
       "      <td>10.000000</td>\n",
       "      <td>10.0</td>\n",
       "      <td>10.000000</td>\n",
       "      <td>10.0</td>\n",
       "      <td>10.0</td>\n",
       "      <td>10.0</td>\n",
       "      <td>10.000000</td>\n",
       "    </tr>\n",
       "    <tr>\n",
       "      <th>mean</th>\n",
       "      <td>0.001323</td>\n",
       "      <td>0.001378</td>\n",
       "      <td>0.003231</td>\n",
       "      <td>0.000981</td>\n",
       "      <td>0.001586</td>\n",
       "      <td>0.002861</td>\n",
       "      <td>0.000965</td>\n",
       "      <td>0.003613</td>\n",
       "      <td>0.001945</td>\n",
       "      <td>0.002949</td>\n",
       "      <td>...</td>\n",
       "      <td>0.0</td>\n",
       "      <td>0.100000</td>\n",
       "      <td>0.100000</td>\n",
       "      <td>0.100000</td>\n",
       "      <td>0.0</td>\n",
       "      <td>0.400000</td>\n",
       "      <td>0.0</td>\n",
       "      <td>0.0</td>\n",
       "      <td>0.0</td>\n",
       "      <td>0.100000</td>\n",
       "    </tr>\n",
       "    <tr>\n",
       "      <th>std</th>\n",
       "      <td>0.000967</td>\n",
       "      <td>0.001930</td>\n",
       "      <td>0.002671</td>\n",
       "      <td>0.001001</td>\n",
       "      <td>0.001267</td>\n",
       "      <td>0.002186</td>\n",
       "      <td>0.000809</td>\n",
       "      <td>0.002370</td>\n",
       "      <td>0.001667</td>\n",
       "      <td>0.002110</td>\n",
       "      <td>...</td>\n",
       "      <td>0.0</td>\n",
       "      <td>0.316228</td>\n",
       "      <td>0.316228</td>\n",
       "      <td>0.316228</td>\n",
       "      <td>0.0</td>\n",
       "      <td>0.516398</td>\n",
       "      <td>0.0</td>\n",
       "      <td>0.0</td>\n",
       "      <td>0.0</td>\n",
       "      <td>0.316228</td>\n",
       "    </tr>\n",
       "    <tr>\n",
       "      <th>min</th>\n",
       "      <td>0.000000</td>\n",
       "      <td>0.000000</td>\n",
       "      <td>0.000000</td>\n",
       "      <td>0.000279</td>\n",
       "      <td>0.000372</td>\n",
       "      <td>0.000000</td>\n",
       "      <td>0.000000</td>\n",
       "      <td>0.000000</td>\n",
       "      <td>0.000000</td>\n",
       "      <td>0.000000</td>\n",
       "      <td>...</td>\n",
       "      <td>0.0</td>\n",
       "      <td>0.000000</td>\n",
       "      <td>0.000000</td>\n",
       "      <td>0.000000</td>\n",
       "      <td>0.0</td>\n",
       "      <td>0.000000</td>\n",
       "      <td>0.0</td>\n",
       "      <td>0.0</td>\n",
       "      <td>0.0</td>\n",
       "      <td>0.000000</td>\n",
       "    </tr>\n",
       "    <tr>\n",
       "      <th>25%</th>\n",
       "      <td>0.000600</td>\n",
       "      <td>0.000340</td>\n",
       "      <td>0.000619</td>\n",
       "      <td>0.000348</td>\n",
       "      <td>0.000719</td>\n",
       "      <td>0.001507</td>\n",
       "      <td>0.000340</td>\n",
       "      <td>0.002260</td>\n",
       "      <td>0.000093</td>\n",
       "      <td>0.001762</td>\n",
       "      <td>...</td>\n",
       "      <td>0.0</td>\n",
       "      <td>0.000000</td>\n",
       "      <td>0.000000</td>\n",
       "      <td>0.000000</td>\n",
       "      <td>0.0</td>\n",
       "      <td>0.000000</td>\n",
       "      <td>0.0</td>\n",
       "      <td>0.0</td>\n",
       "      <td>0.0</td>\n",
       "      <td>0.000000</td>\n",
       "    </tr>\n",
       "    <tr>\n",
       "      <th>50%</th>\n",
       "      <td>0.001189</td>\n",
       "      <td>0.000474</td>\n",
       "      <td>0.003603</td>\n",
       "      <td>0.000605</td>\n",
       "      <td>0.001359</td>\n",
       "      <td>0.002135</td>\n",
       "      <td>0.000882</td>\n",
       "      <td>0.003219</td>\n",
       "      <td>0.002505</td>\n",
       "      <td>0.002645</td>\n",
       "      <td>...</td>\n",
       "      <td>0.0</td>\n",
       "      <td>0.000000</td>\n",
       "      <td>0.000000</td>\n",
       "      <td>0.000000</td>\n",
       "      <td>0.0</td>\n",
       "      <td>0.000000</td>\n",
       "      <td>0.0</td>\n",
       "      <td>0.0</td>\n",
       "      <td>0.0</td>\n",
       "      <td>0.000000</td>\n",
       "    </tr>\n",
       "    <tr>\n",
       "      <th>75%</th>\n",
       "      <td>0.002065</td>\n",
       "      <td>0.002014</td>\n",
       "      <td>0.004682</td>\n",
       "      <td>0.001036</td>\n",
       "      <td>0.001646</td>\n",
       "      <td>0.004743</td>\n",
       "      <td>0.001386</td>\n",
       "      <td>0.004076</td>\n",
       "      <td>0.003397</td>\n",
       "      <td>0.004755</td>\n",
       "      <td>...</td>\n",
       "      <td>0.0</td>\n",
       "      <td>0.000000</td>\n",
       "      <td>0.000000</td>\n",
       "      <td>0.000000</td>\n",
       "      <td>0.0</td>\n",
       "      <td>1.000000</td>\n",
       "      <td>0.0</td>\n",
       "      <td>0.0</td>\n",
       "      <td>0.0</td>\n",
       "      <td>0.000000</td>\n",
       "    </tr>\n",
       "    <tr>\n",
       "      <th>max</th>\n",
       "      <td>0.002976</td>\n",
       "      <td>0.006324</td>\n",
       "      <td>0.007422</td>\n",
       "      <td>0.003516</td>\n",
       "      <td>0.003906</td>\n",
       "      <td>0.006114</td>\n",
       "      <td>0.002378</td>\n",
       "      <td>0.008185</td>\n",
       "      <td>0.003646</td>\n",
       "      <td>0.006138</td>\n",
       "      <td>...</td>\n",
       "      <td>0.0</td>\n",
       "      <td>1.000000</td>\n",
       "      <td>1.000000</td>\n",
       "      <td>1.000000</td>\n",
       "      <td>0.0</td>\n",
       "      <td>1.000000</td>\n",
       "      <td>0.0</td>\n",
       "      <td>0.0</td>\n",
       "      <td>0.0</td>\n",
       "      <td>1.000000</td>\n",
       "    </tr>\n",
       "  </tbody>\n",
       "</table>\n",
       "<p>8 rows × 519 columns</p>\n",
       "</div>"
      ],
      "text/plain": [
       "            dim1       dim2       dim3       dim4       dim5       dim6  \\\n",
       "count  10.000000  10.000000  10.000000  10.000000  10.000000  10.000000   \n",
       "mean    0.001323   0.001378   0.003231   0.000981   0.001586   0.002861   \n",
       "std     0.000967   0.001930   0.002671   0.001001   0.001267   0.002186   \n",
       "min     0.000000   0.000000   0.000000   0.000279   0.000372   0.000000   \n",
       "25%     0.000600   0.000340   0.000619   0.000348   0.000719   0.001507   \n",
       "50%     0.001189   0.000474   0.003603   0.000605   0.001359   0.002135   \n",
       "75%     0.002065   0.002014   0.004682   0.001036   0.001646   0.004743   \n",
       "max     0.002976   0.006324   0.007422   0.003516   0.003906   0.006114   \n",
       "\n",
       "            dim7       dim8       dim9      dim10      ...       is_cow  \\\n",
       "count  10.000000  10.000000  10.000000  10.000000      ...         10.0   \n",
       "mean    0.000965   0.003613   0.001945   0.002949      ...          0.0   \n",
       "std     0.000809   0.002370   0.001667   0.002110      ...          0.0   \n",
       "min     0.000000   0.000000   0.000000   0.000000      ...          0.0   \n",
       "25%     0.000340   0.002260   0.000093   0.001762      ...          0.0   \n",
       "50%     0.000882   0.003219   0.002505   0.002645      ...          0.0   \n",
       "75%     0.001386   0.004076   0.003397   0.004755      ...          0.0   \n",
       "max     0.002378   0.008185   0.003646   0.006138      ...          0.0   \n",
       "\n",
       "       is_diningtable     is_dog   is_horse  is_motorbike  is_person  \\\n",
       "count       10.000000  10.000000  10.000000          10.0  10.000000   \n",
       "mean         0.100000   0.100000   0.100000           0.0   0.400000   \n",
       "std          0.316228   0.316228   0.316228           0.0   0.516398   \n",
       "min          0.000000   0.000000   0.000000           0.0   0.000000   \n",
       "25%          0.000000   0.000000   0.000000           0.0   0.000000   \n",
       "50%          0.000000   0.000000   0.000000           0.0   0.000000   \n",
       "75%          0.000000   0.000000   0.000000           0.0   1.000000   \n",
       "max          1.000000   1.000000   1.000000           0.0   1.000000   \n",
       "\n",
       "       is_pottedplant  is_sheep  is_sofa  is_tvmonitor  \n",
       "count            10.0      10.0     10.0     10.000000  \n",
       "mean              0.0       0.0      0.0      0.100000  \n",
       "std               0.0       0.0      0.0      0.316228  \n",
       "min               0.0       0.0      0.0      0.000000  \n",
       "25%               0.0       0.0      0.0      0.000000  \n",
       "50%               0.0       0.0      0.0      0.000000  \n",
       "75%               0.0       0.0      0.0      0.000000  \n",
       "max               0.0       0.0      0.0      1.000000  \n",
       "\n",
       "[8 rows x 519 columns]"
      ]
     },
     "execution_count": 3,
     "metadata": {},
     "output_type": "execute_result"
    }
   ],
   "source": [
    "train_A.head(10).describe()\n",
    "#train_A.head(10)"
   ]
  },
  {
   "cell_type": "markdown",
   "metadata": {},
   "source": [
    "### ========== Question 1.3 --- [1 mark] ==========\n",
    "Select the attributes (i.e. input features) for training our classifiers. These should be the visual word normalised counts `dim1, dim2, ..., dim500`. Create a list of the **names** of the attributes of interest. "
   ]
  },
  {
   "cell_type": "code",
   "execution_count": 4,
   "metadata": {},
   "outputs": [
    {
     "data": {
      "text/plain": [
       "['dim1',\n",
       " 'dim2',\n",
       " 'dim3',\n",
       " 'dim4',\n",
       " 'dim5',\n",
       " 'dim6',\n",
       " 'dim7',\n",
       " 'dim8',\n",
       " 'dim9',\n",
       " 'dim10',\n",
       " 'dim11',\n",
       " 'dim12',\n",
       " 'dim13',\n",
       " 'dim14',\n",
       " 'dim15',\n",
       " 'dim16',\n",
       " 'dim17',\n",
       " 'dim18',\n",
       " 'dim19',\n",
       " 'dim20',\n",
       " 'dim21',\n",
       " 'dim22',\n",
       " 'dim23',\n",
       " 'dim24',\n",
       " 'dim25',\n",
       " 'dim26',\n",
       " 'dim27',\n",
       " 'dim28',\n",
       " 'dim29',\n",
       " 'dim30',\n",
       " 'dim31',\n",
       " 'dim32',\n",
       " 'dim33',\n",
       " 'dim34',\n",
       " 'dim35',\n",
       " 'dim36',\n",
       " 'dim37',\n",
       " 'dim38',\n",
       " 'dim39',\n",
       " 'dim40',\n",
       " 'dim41',\n",
       " 'dim42',\n",
       " 'dim43',\n",
       " 'dim44',\n",
       " 'dim45',\n",
       " 'dim46',\n",
       " 'dim47',\n",
       " 'dim48',\n",
       " 'dim49',\n",
       " 'dim50',\n",
       " 'dim51',\n",
       " 'dim52',\n",
       " 'dim53',\n",
       " 'dim54',\n",
       " 'dim55',\n",
       " 'dim56',\n",
       " 'dim57',\n",
       " 'dim58',\n",
       " 'dim59',\n",
       " 'dim60',\n",
       " 'dim61',\n",
       " 'dim62',\n",
       " 'dim63',\n",
       " 'dim64',\n",
       " 'dim65',\n",
       " 'dim66',\n",
       " 'dim67',\n",
       " 'dim68',\n",
       " 'dim69',\n",
       " 'dim70',\n",
       " 'dim71',\n",
       " 'dim72',\n",
       " 'dim73',\n",
       " 'dim74',\n",
       " 'dim75',\n",
       " 'dim76',\n",
       " 'dim77',\n",
       " 'dim78',\n",
       " 'dim79',\n",
       " 'dim80',\n",
       " 'dim81',\n",
       " 'dim82',\n",
       " 'dim83',\n",
       " 'dim84',\n",
       " 'dim85',\n",
       " 'dim86',\n",
       " 'dim87',\n",
       " 'dim88',\n",
       " 'dim89',\n",
       " 'dim90',\n",
       " 'dim91',\n",
       " 'dim92',\n",
       " 'dim93',\n",
       " 'dim94',\n",
       " 'dim95',\n",
       " 'dim96',\n",
       " 'dim97',\n",
       " 'dim98',\n",
       " 'dim99',\n",
       " 'dim100',\n",
       " 'dim101',\n",
       " 'dim102',\n",
       " 'dim103',\n",
       " 'dim104',\n",
       " 'dim105',\n",
       " 'dim106',\n",
       " 'dim107',\n",
       " 'dim108',\n",
       " 'dim109',\n",
       " 'dim110',\n",
       " 'dim111',\n",
       " 'dim112',\n",
       " 'dim113',\n",
       " 'dim114',\n",
       " 'dim115',\n",
       " 'dim116',\n",
       " 'dim117',\n",
       " 'dim118',\n",
       " 'dim119',\n",
       " 'dim120',\n",
       " 'dim121',\n",
       " 'dim122',\n",
       " 'dim123',\n",
       " 'dim124',\n",
       " 'dim125',\n",
       " 'dim126',\n",
       " 'dim127',\n",
       " 'dim128',\n",
       " 'dim129',\n",
       " 'dim130',\n",
       " 'dim131',\n",
       " 'dim132',\n",
       " 'dim133',\n",
       " 'dim134',\n",
       " 'dim135',\n",
       " 'dim136',\n",
       " 'dim137',\n",
       " 'dim138',\n",
       " 'dim139',\n",
       " 'dim140',\n",
       " 'dim141',\n",
       " 'dim142',\n",
       " 'dim143',\n",
       " 'dim144',\n",
       " 'dim145',\n",
       " 'dim146',\n",
       " 'dim147',\n",
       " 'dim148',\n",
       " 'dim149',\n",
       " 'dim150',\n",
       " 'dim151',\n",
       " 'dim152',\n",
       " 'dim153',\n",
       " 'dim154',\n",
       " 'dim155',\n",
       " 'dim156',\n",
       " 'dim157',\n",
       " 'dim158',\n",
       " 'dim159',\n",
       " 'dim160',\n",
       " 'dim161',\n",
       " 'dim162',\n",
       " 'dim163',\n",
       " 'dim164',\n",
       " 'dim165',\n",
       " 'dim166',\n",
       " 'dim167',\n",
       " 'dim168',\n",
       " 'dim169',\n",
       " 'dim170',\n",
       " 'dim171',\n",
       " 'dim172',\n",
       " 'dim173',\n",
       " 'dim174',\n",
       " 'dim175',\n",
       " 'dim176',\n",
       " 'dim177',\n",
       " 'dim178',\n",
       " 'dim179',\n",
       " 'dim180',\n",
       " 'dim181',\n",
       " 'dim182',\n",
       " 'dim183',\n",
       " 'dim184',\n",
       " 'dim185',\n",
       " 'dim186',\n",
       " 'dim187',\n",
       " 'dim188',\n",
       " 'dim189',\n",
       " 'dim190',\n",
       " 'dim191',\n",
       " 'dim192',\n",
       " 'dim193',\n",
       " 'dim194',\n",
       " 'dim195',\n",
       " 'dim196',\n",
       " 'dim197',\n",
       " 'dim198',\n",
       " 'dim199',\n",
       " 'dim200',\n",
       " 'dim201',\n",
       " 'dim202',\n",
       " 'dim203',\n",
       " 'dim204',\n",
       " 'dim205',\n",
       " 'dim206',\n",
       " 'dim207',\n",
       " 'dim208',\n",
       " 'dim209',\n",
       " 'dim210',\n",
       " 'dim211',\n",
       " 'dim212',\n",
       " 'dim213',\n",
       " 'dim214',\n",
       " 'dim215',\n",
       " 'dim216',\n",
       " 'dim217',\n",
       " 'dim218',\n",
       " 'dim219',\n",
       " 'dim220',\n",
       " 'dim221',\n",
       " 'dim222',\n",
       " 'dim223',\n",
       " 'dim224',\n",
       " 'dim225',\n",
       " 'dim226',\n",
       " 'dim227',\n",
       " 'dim228',\n",
       " 'dim229',\n",
       " 'dim230',\n",
       " 'dim231',\n",
       " 'dim232',\n",
       " 'dim233',\n",
       " 'dim234',\n",
       " 'dim235',\n",
       " 'dim236',\n",
       " 'dim237',\n",
       " 'dim238',\n",
       " 'dim239',\n",
       " 'dim240',\n",
       " 'dim241',\n",
       " 'dim242',\n",
       " 'dim243',\n",
       " 'dim244',\n",
       " 'dim245',\n",
       " 'dim246',\n",
       " 'dim247',\n",
       " 'dim248',\n",
       " 'dim249',\n",
       " 'dim250',\n",
       " 'dim251',\n",
       " 'dim252',\n",
       " 'dim253',\n",
       " 'dim254',\n",
       " 'dim255',\n",
       " 'dim256',\n",
       " 'dim257',\n",
       " 'dim258',\n",
       " 'dim259',\n",
       " 'dim260',\n",
       " 'dim261',\n",
       " 'dim262',\n",
       " 'dim263',\n",
       " 'dim264',\n",
       " 'dim265',\n",
       " 'dim266',\n",
       " 'dim267',\n",
       " 'dim268',\n",
       " 'dim269',\n",
       " 'dim270',\n",
       " 'dim271',\n",
       " 'dim272',\n",
       " 'dim273',\n",
       " 'dim274',\n",
       " 'dim275',\n",
       " 'dim276',\n",
       " 'dim277',\n",
       " 'dim278',\n",
       " 'dim279',\n",
       " 'dim280',\n",
       " 'dim281',\n",
       " 'dim282',\n",
       " 'dim283',\n",
       " 'dim284',\n",
       " 'dim285',\n",
       " 'dim286',\n",
       " 'dim287',\n",
       " 'dim288',\n",
       " 'dim289',\n",
       " 'dim290',\n",
       " 'dim291',\n",
       " 'dim292',\n",
       " 'dim293',\n",
       " 'dim294',\n",
       " 'dim295',\n",
       " 'dim296',\n",
       " 'dim297',\n",
       " 'dim298',\n",
       " 'dim299',\n",
       " 'dim300',\n",
       " 'dim301',\n",
       " 'dim302',\n",
       " 'dim303',\n",
       " 'dim304',\n",
       " 'dim305',\n",
       " 'dim306',\n",
       " 'dim307',\n",
       " 'dim308',\n",
       " 'dim309',\n",
       " 'dim310',\n",
       " 'dim311',\n",
       " 'dim312',\n",
       " 'dim313',\n",
       " 'dim314',\n",
       " 'dim315',\n",
       " 'dim316',\n",
       " 'dim317',\n",
       " 'dim318',\n",
       " 'dim319',\n",
       " 'dim320',\n",
       " 'dim321',\n",
       " 'dim322',\n",
       " 'dim323',\n",
       " 'dim324',\n",
       " 'dim325',\n",
       " 'dim326',\n",
       " 'dim327',\n",
       " 'dim328',\n",
       " 'dim329',\n",
       " 'dim330',\n",
       " 'dim331',\n",
       " 'dim332',\n",
       " 'dim333',\n",
       " 'dim334',\n",
       " 'dim335',\n",
       " 'dim336',\n",
       " 'dim337',\n",
       " 'dim338',\n",
       " 'dim339',\n",
       " 'dim340',\n",
       " 'dim341',\n",
       " 'dim342',\n",
       " 'dim343',\n",
       " 'dim344',\n",
       " 'dim345',\n",
       " 'dim346',\n",
       " 'dim347',\n",
       " 'dim348',\n",
       " 'dim349',\n",
       " 'dim350',\n",
       " 'dim351',\n",
       " 'dim352',\n",
       " 'dim353',\n",
       " 'dim354',\n",
       " 'dim355',\n",
       " 'dim356',\n",
       " 'dim357',\n",
       " 'dim358',\n",
       " 'dim359',\n",
       " 'dim360',\n",
       " 'dim361',\n",
       " 'dim362',\n",
       " 'dim363',\n",
       " 'dim364',\n",
       " 'dim365',\n",
       " 'dim366',\n",
       " 'dim367',\n",
       " 'dim368',\n",
       " 'dim369',\n",
       " 'dim370',\n",
       " 'dim371',\n",
       " 'dim372',\n",
       " 'dim373',\n",
       " 'dim374',\n",
       " 'dim375',\n",
       " 'dim376',\n",
       " 'dim377',\n",
       " 'dim378',\n",
       " 'dim379',\n",
       " 'dim380',\n",
       " 'dim381',\n",
       " 'dim382',\n",
       " 'dim383',\n",
       " 'dim384',\n",
       " 'dim385',\n",
       " 'dim386',\n",
       " 'dim387',\n",
       " 'dim388',\n",
       " 'dim389',\n",
       " 'dim390',\n",
       " 'dim391',\n",
       " 'dim392',\n",
       " 'dim393',\n",
       " 'dim394',\n",
       " 'dim395',\n",
       " 'dim396',\n",
       " 'dim397',\n",
       " 'dim398',\n",
       " 'dim399',\n",
       " 'dim400',\n",
       " 'dim401',\n",
       " 'dim402',\n",
       " 'dim403',\n",
       " 'dim404',\n",
       " 'dim405',\n",
       " 'dim406',\n",
       " 'dim407',\n",
       " 'dim408',\n",
       " 'dim409',\n",
       " 'dim410',\n",
       " 'dim411',\n",
       " 'dim412',\n",
       " 'dim413',\n",
       " 'dim414',\n",
       " 'dim415',\n",
       " 'dim416',\n",
       " 'dim417',\n",
       " 'dim418',\n",
       " 'dim419',\n",
       " 'dim420',\n",
       " 'dim421',\n",
       " 'dim422',\n",
       " 'dim423',\n",
       " 'dim424',\n",
       " 'dim425',\n",
       " 'dim426',\n",
       " 'dim427',\n",
       " 'dim428',\n",
       " 'dim429',\n",
       " 'dim430',\n",
       " 'dim431',\n",
       " 'dim432',\n",
       " 'dim433',\n",
       " 'dim434',\n",
       " 'dim435',\n",
       " 'dim436',\n",
       " 'dim437',\n",
       " 'dim438',\n",
       " 'dim439',\n",
       " 'dim440',\n",
       " 'dim441',\n",
       " 'dim442',\n",
       " 'dim443',\n",
       " 'dim444',\n",
       " 'dim445',\n",
       " 'dim446',\n",
       " 'dim447',\n",
       " 'dim448',\n",
       " 'dim449',\n",
       " 'dim450',\n",
       " 'dim451',\n",
       " 'dim452',\n",
       " 'dim453',\n",
       " 'dim454',\n",
       " 'dim455',\n",
       " 'dim456',\n",
       " 'dim457',\n",
       " 'dim458',\n",
       " 'dim459',\n",
       " 'dim460',\n",
       " 'dim461',\n",
       " 'dim462',\n",
       " 'dim463',\n",
       " 'dim464',\n",
       " 'dim465',\n",
       " 'dim466',\n",
       " 'dim467',\n",
       " 'dim468',\n",
       " 'dim469',\n",
       " 'dim470',\n",
       " 'dim471',\n",
       " 'dim472',\n",
       " 'dim473',\n",
       " 'dim474',\n",
       " 'dim475',\n",
       " 'dim476',\n",
       " 'dim477',\n",
       " 'dim478',\n",
       " 'dim479',\n",
       " 'dim480',\n",
       " 'dim481',\n",
       " 'dim482',\n",
       " 'dim483',\n",
       " 'dim484',\n",
       " 'dim485',\n",
       " 'dim486',\n",
       " 'dim487',\n",
       " 'dim488',\n",
       " 'dim489',\n",
       " 'dim490',\n",
       " 'dim491',\n",
       " 'dim492',\n",
       " 'dim493',\n",
       " 'dim494',\n",
       " 'dim495',\n",
       " 'dim496',\n",
       " 'dim497',\n",
       " 'dim498',\n",
       " 'dim499',\n",
       " 'dim500']"
      ]
     },
     "execution_count": 4,
     "metadata": {},
     "output_type": "execute_result"
    }
   ],
   "source": [
    "#train_A.values.tolist()[:500]\n",
    "names = train_A.columns.values[1 : 501] \n",
    "attributes = names.tolist()\n",
    "attributes"
   ]
  },
  {
   "cell_type": "markdown",
   "metadata": {},
   "source": [
    "### ========== Question 1.4 --- [1 mark] ==========\n",
    "By using the list from Question 1.3 now create 4 numpy arrays `X_tr`, `X_val`, `y_tr` and `y_val` in which to store the training features, validation features, training targets, and validation targets, respectively. Your target vectors should correspond to the `is_person` attribute of the training and validation sets. Display the dimensionalities (i.e shapes) of the 4 arrays. \n",
    "\n",
    "Check this carefully - you will be penalised in following questions if the data is not correct!"
   ]
  },
  {
   "cell_type": "code",
   "execution_count": 5,
   "metadata": {},
   "outputs": [
    {
     "name": "stdout",
     "output_type": "stream",
     "text": [
      "Shapes for\n",
      "X_tr: (2093, 500)\n",
      "X_val: (1113, 500)\n",
      "y_tr: (2093,)\n",
      "y_val: (1113,)\n"
     ]
    }
   ],
   "source": [
    "X_tr = np.array(train_A[attributes])\n",
    "X_val = np.array(valid_A[attributes])\n",
    "\n",
    "y_tr = np.array(train_A['is_person'].values)\n",
    "y_val = np.array(valid_A['is_person'].values) \n",
    "\n",
    "# Dimensionalities\n",
    "print('Shapes for''\\n''X_tr: {}''\\n''X_val: {}''\\n''y_tr: {}''\\n''y_val: {}'.format(X_tr.shape, X_val.shape, y_tr.shape, y_val.shape))"
   ]
  },
  {
   "cell_type": "markdown",
   "metadata": {},
   "source": [
    "### ========== Question 1.5 --- [2 marks] ==========\n",
    "Create a [countplots](https://seaborn.github.io/generated/seaborn.countplot.html?highlight=countplot#seaborn.countplot) for the training and validation targets. Create a single figure, and put the two plots inside the single figure. Label axes appropriately and add a title to your plot. Use descriptive `xticklabels` instead of the default numeric ones."
   ]
  },
  {
   "cell_type": "code",
   "execution_count": 6,
   "metadata": {},
   "outputs": [
    {
     "data": {
      "image/png": "[encoded data removed]",
      "text/plain": [
       "<matplotlib.figure.Figure at 0x7f009f909ed0>"
      ]
     },
     "metadata": {},
     "output_type": "display_data"
    }
   ],
   "source": [
    "# Plotting training and validation targets\n",
    "fig, (ax1, ax2) = plt.subplots(1, 2, figsize=(8,4))\n",
    "sns.countplot(y_tr, ax=ax1, palette=\"Set2\")\n",
    "ax1.set_title('Training', size=12)\n",
    "ax1.set_xlabel(' ')\n",
    "sns.countplot(y_val, ax=ax2, palette=\"Set1\")\n",
    "ax2.set_xlabel(' ')\n",
    "ax2.set_ylabel('')\n",
    "ax2.set_title('Validation', size=12)\n",
    "fig.suptitle('Targets', size=12, fontweight = 'bold')\n",
    "\n",
    "# Using xticklabels\n",
    "the_labels = ['feature vectors', 'is_person']\n",
    "\n",
    "ax1.set_xticklabels(the_labels)\n",
    "ax2.set_xticklabels(the_labels)\n",
    "\n",
    "plt.show()"
   ]
  },
  {
   "cell_type": "markdown",
   "metadata": {},
   "source": [
    "### ========== Question 1.6 --- [1 mark] ==========\n",
    "We want to make a baseline classification accuracy to beat. Pick a baseline \"dummy\" classifier, describe in a sentence why you chose it, and report the accuracy it achieves on the validation set?"
   ]
  },
  {
   "cell_type": "markdown",
   "metadata": {},
   "source": [
    "I would use sklearn's DummyClassifier which looks at which attribute occurs most frequently thus making it the simplest possible prediction classifier. As we can clearly see in Q1.5, the is_person attribute is the lower of the two which means the DummyClassifier will always classify our attributes as a picture that doesn't have people in it - this leaves us with much room for improvement. "
   ]
  },
  {
   "cell_type": "code",
   "execution_count": 7,
   "metadata": {},
   "outputs": [
    {
     "name": "stdout",
     "output_type": "stream",
     "text": [
      "Classification accuracy for baseline DummyClassifier: 0.526504941599\n"
     ]
    }
   ],
   "source": [
    "baseline_c = DummyClassifier(strategy=\"most_frequent\")\n",
    "baseline = baseline_c.fit(X_tr, y_tr)\n",
    "\n",
    "print('Classification accuracy for baseline DummyClassifier: {}'.format(baseline.score(X_val, y_val)))"
   ]
  },
  {
   "cell_type": "markdown",
   "metadata": {},
   "source": [
    "### ========== Question 1.7 --- [3 marks] ==========\n",
    "Train a [`LogisticRegression`](http://scikit-learn.org/0.17/modules/generated/sklearn.linear_model.LogisticRegression.html) classifier using default settings, except for the `solver` parameter which you should set to `lbfgs`. Report the classification accuracy score on the training and validation sets and compare with the baseline. Comment on the results with 1-2 sentences. You may include any additional plot(s) if you wish to justify your explanation."
   ]
  },
  {
   "cell_type": "code",
   "execution_count": 8,
   "metadata": {},
   "outputs": [
    {
     "name": "stdout",
     "output_type": "stream",
     "text": [
      "Classification accuracy for LogisticRegression, training sets: 0.55088389871\n",
      "\n",
      "Classification accuracy for LogisticRegression, validation sets: 0.526504941599\n"
     ]
    }
   ],
   "source": [
    "lr = LogisticRegression(solver='lbfgs')\n",
    "l_r = lr.fit(X_tr, y_tr)\n",
    "\n",
    "print('Classification accuracy for LogisticRegression, training sets: {}'.format(l_r.score(X_tr, y_tr)))\n",
    "print()\n",
    "print('Classification accuracy for LogisticRegression, validation sets: {}'.format(l_r.score(X_val, y_val)))"
   ]
  },
  {
   "cell_type": "markdown",
   "metadata": {},
   "source": [
    "The results are similar to the accuracy score for the baseline model. LogistricRegression is a probabilistic model and gives linear class boundaries. Because our data is such that the training and validation sets both have higher counts for feature vectors (as seen in Q1.5), this classifier almost behaves the same way as the DummyClassifier that just takes the attributes that occur most frequently. \n",
    "\n"
   ]
  },
  {
   "cell_type": "markdown",
   "metadata": {},
   "source": [
    "### ========== Question 1.8 --- [1 mark] ==========\n",
    "Display the means and standard deviations of the first 5 features in the training set. *Hint: you want to compute the means and standard deviations for each column in your arrays. Make sure you make appropriate use of the `axis` parameter.*"
   ]
  },
  {
   "cell_type": "code",
   "execution_count": 9,
   "metadata": {
    "scrolled": true
   },
   "outputs": [
    {
     "name": "stdout",
     "output_type": "stream",
     "text": [
      "Mean for first 5 features in the training set:\n",
      "\n",
      "[ 0.00175058  0.00075592  0.00431695  0.00185278  0.00227248]\n"
     ]
    }
   ],
   "source": [
    "print('Mean for first 5 features in the training set:\\n\\n{}'.format(X_tr.mean(axis=0)[0:5]))"
   ]
  },
  {
   "cell_type": "code",
   "execution_count": 10,
   "metadata": {},
   "outputs": [
    {
     "name": "stdout",
     "output_type": "stream",
     "text": [
      "Std. Dev for first 5 features in the training set:\n",
      "\n",
      "[ 0.00119281  0.00140604  0.00369255  0.00134017  0.00159773]\n"
     ]
    }
   ],
   "source": [
    "print('Std. Dev for first 5 features in the training set:\\n\\n{}'.format(X_tr.std(axis=0)[0:5]))"
   ]
  },
  {
   "cell_type": "markdown",
   "metadata": {},
   "source": [
    "### ========== Question 1.9 --- [3 marks] ==========\n",
    "Feature standardisation is a pre-processing technique used to transform data so that they have zero mean and unit standard deviation. For many algorithms, this is a very important step for training models (both regression and classification). Read about [feature standardisation](http://scikit-learn.org/0.17/modules/preprocessing.html) and make sure you understand what kind of transformation this method applies to the data.\n",
    "\n",
    "`Scikit-learn` offers a [class](http://scikit-learn.org/0.17/modules/generated/sklearn.preprocessing.StandardScaler.html) for feature standardisation. Instansiate a StandardScaler object and fit it using the **training features**. Use this fitted object to transform both your training and validation features to have a standard scale. \n",
    "\n",
    "Once your training and validation input data have been transformed, display the means and standard deviations of the first 5 attributes for **both** the training and validation sets. Are the results as you expected? Explain your answer in 2-3 sentences. Why didn't we use the validation set to standardise the data?\n",
    "\n",
    "**IMPORTANT: You should use the transformed data for the rest of this part.**"
   ]
  },
  {
   "cell_type": "code",
   "execution_count": 11,
   "metadata": {
    "collapsed": true
   },
   "outputs": [],
   "source": [
    "# Instantiate StandardScaler and fit using training features\n",
    "standard_scaler = StandardScaler().fit(X_tr)\n",
    "\n",
    "\n",
    "# Feature standardisation for training and validation features\n",
    "X_tr = standard_scaler.transform(X_tr)\n",
    "X_val = standard_scaler.transform(X_val)\n"
   ]
  },
  {
   "cell_type": "code",
   "execution_count": 12,
   "metadata": {},
   "outputs": [
    {
     "name": "stdout",
     "output_type": "stream",
     "text": [
      "Mean for first 5 features in the transformed training set:\n",
      "\n",
      "[ -3.39485301e-17  -2.20665446e-17   2.44429417e-16   1.42583827e-16\n",
      "  -5.77125012e-17]\n"
     ]
    }
   ],
   "source": [
    "print('Mean for first 5 features in the transformed training set:\\n\\n{}'.format(X_tr.mean(axis=0)[0:5]))"
   ]
  },
  {
   "cell_type": "code",
   "execution_count": 13,
   "metadata": {},
   "outputs": [
    {
     "name": "stdout",
     "output_type": "stream",
     "text": [
      "Std. Dev for first 5 features in the transformed validation set:\n",
      "\n",
      "[ 1.01310886  0.96981949  1.0492285   1.05684479  0.97471336]\n"
     ]
    }
   ],
   "source": [
    "print('Std. Dev for first 5 features in the transformed validation set:\\n\\n{}'.format(X_val.std(axis=0)[0:5]))"
   ]
  },
  {
   "cell_type": "markdown",
   "metadata": {},
   "source": [
    "The mean is closer to 0 and the standard deviation is closer to 1. This is the expected outcome after transforming the data using a StandardScaler. We fit the StandardScaler and standardise the data using the training set because we want to create a predictive model that is generalized. The standardisation parameters are calculated according to the training data so that the validation process can be applied after and not have any contamination via future information."
   ]
  },
  {
   "cell_type": "markdown",
   "metadata": {},
   "source": [
    "### ========== Question 1.10 --- [3 marks] ==========\n",
    "By using the transformed input data, train a new `LogisticRegression` classifier. Again, set the `solver` parameter to `lbfgs` and use default settings for the other parameters. Report the classification accuracy on both the training and validation sets.\n",
    "\n",
    "Comment on how your model compares to the baseline classifier from Question 1.6? You may use additional plot(s) to support your explanation."
   ]
  },
  {
   "cell_type": "code",
   "execution_count": 14,
   "metadata": {},
   "outputs": [
    {
     "name": "stdout",
     "output_type": "stream",
     "text": [
      "Classification accuracy for LogisticRegression, transformed training sets: 0.810797897754\n",
      "\n",
      "Classification accuracy for LogisticRegression, transformed validation sets: 0.643306379155\n"
     ]
    }
   ],
   "source": [
    "lr_transformed = LogisticRegression(solver='lbfgs')\n",
    "l_r_transformed = lr_transformed.fit(X_tr, y_tr)\n",
    "\n",
    "print('Classification accuracy for LogisticRegression, transformed training sets: {}'.format(l_r_transformed.score(X_tr, y_tr)))\n",
    "print()\n",
    "print('Classification accuracy for LogisticRegression, transformed validation sets: {}'.format(l_r_transformed.score(X_val, y_val)))"
   ]
  },
  {
   "cell_type": "markdown",
   "metadata": {},
   "source": [
    "The new LogisticRegression classifier does much better on the transformed training data than the DummyClassifier and significantly better on the transformed validation sets. This is because the preprocessing allowed the individual features to look more like standard normal distributed data."
   ]
  },
  {
   "cell_type": "code",
   "execution_count": 15,
   "metadata": {},
   "outputs": [
    {
     "data": {
      "image/png": "[encoded data removed]",
      "text/plain": [
       "<matplotlib.figure.Figure at 0x7f009f873d90>"
      ]
     },
     "metadata": {},
     "output_type": "display_data"
    }
   ],
   "source": [
    "# Plotting\n",
    "fig, (ax1, ax2) = plt.subplots(1, 2, figsize=(8,4))\n",
    "sns.countplot(y_tr, ax=ax1, palette=\"Set2\")\n",
    "ax1.set_title('Training', size=12)\n",
    "ax1.set_xlabel(' ')\n",
    "sns.countplot(y_val, ax=ax2, palette=\"Set1\")\n",
    "ax2.set_xlabel(' ')\n",
    "ax2.set_ylabel('')\n",
    "ax2.set_title('Validation', size=12)\n",
    "fig.suptitle('Targets', size=12, fontweight = 'bold')\n",
    "\n",
    "# Using xticklabels\n",
    "the_labels = ['feature vectors', 'is_person']\n",
    "\n",
    "ax1.set_xticklabels(the_labels)\n",
    "ax2.set_xticklabels(the_labels)\n",
    "\n",
    "plt.show()"
   ]
  },
  {
   "cell_type": "markdown",
   "metadata": {},
   "source": [
    "### ========== Question 1.11 --- [1 mark] ==========\n",
    "So far we have used default settings for training the logistic regression classifier. Now, we want to use [K-fold cross-validation](http://scikit-learn.org/stable/modules/generated/sklearn.model_selection.KFold.html) to optimise the regularisation parameter `C`. The regularisation parameter controls the degree to which we wish to penalise large magnitudes in the weight vector. This can help us prevent overfitting but, if set too high, could lead us to underfit too.\n",
    "\n",
    "Create a 3-fold cross-validation object. Set the `shuffle` parameter to `True` and the `random_state` to `0`. By using the cross-validation iterator, display the number of test samples for each fold."
   ]
  },
  {
   "cell_type": "code",
   "execution_count": 16,
   "metadata": {},
   "outputs": [
    {
     "name": "stdout",
     "output_type": "stream",
     "text": [
      "698\n",
      "698\n",
      "697\n"
     ]
    }
   ],
   "source": [
    "kf = KFold(n_splits=3, random_state=0, shuffle=True)\n",
    "kf.get_n_splits(X_tr)\n",
    "\n",
    "for training_samples, validation_samples in kf.split(X_tr):\n",
    "    print(len(validation_samples))"
   ]
  },
  {
   "cell_type": "markdown",
   "metadata": {},
   "source": [
    "### ========== Question 1.12 --- [2 marks] ========== \n",
    "Using the cross-validation iterator from the previous question, perform a search for the best value for `C`. \n",
    "\n",
    "We are going to loop over each CV fold, and each value of `C`. The values of `C` to search should be 20 equally-spaced values **in log space** ranging from `1e-5` to `1e5` *(hint: look at the `logspace()` function in numpy)*. \n",
    "\n",
    "Create a 2-dimensional array and, for each cross-validation fold and parameter setting pair, compute and store the classification accuracy score e.g. store the score of fold 0 with parameter setting 1 at score_array[0,1]. As previously, set the `solver` parameter to `lbfgs` and use default settings for the other parameters (except for `C` obviously!).\n",
    "\n",
    "*(hint: you could use two loops in your code; one iterating over CV folds and another one iterating over the values for `C`)*. "
   ]
  },
  {
   "cell_type": "code",
   "execution_count": 17,
   "metadata": {},
   "outputs": [
    {
     "name": "stdout",
     "output_type": "stream",
     "text": [
      "Classification accuracy for each cross-validation fold and parameter setting pair: \n",
      "\n",
      "[[0.57306590257879653, 0.62893982808022919, 0.66762177650429799, 0.67191977077363896, 0.68767908309455583, 0.69627507163323787, 0.67478510028653294, 0.67048710601719197, 0.65329512893982811, 0.65902578796561606, 0.65902578796561606, 0.65329512893982811, 0.64899713467048714, 0.64613180515759316, 0.64613180515759316, 0.64899713467048714, 0.64613180515759316, 0.64613180515759316, 0.64899713467048714, 0.64899713467048714], [0.54584527220630374, 0.63180515759312317, 0.69484240687679089, 0.71919770773638969, 0.72922636103151861, 0.73495702005730656, 0.70200573065902583, 0.67478510028653294, 0.6547277936962751, 0.63610315186246413, 0.63180515759312317, 0.63323782234957016, 0.62607449856733521, 0.6275071633237822, 0.6275071633237822, 0.62607449856733521, 0.62607449856733521, 0.62607449856733521, 0.6275071633237822, 0.62607449856733521], [0.54806312769010046, 0.63558106169296991, 0.642754662840746, 0.65566714490674316, 0.68005738880918221, 0.70014347202295557, 0.68149210903873747, 0.67001434720229558, 0.66284074605451937, 0.64418938307030127, 0.63271162123385938, 0.62553802008608317, 0.62410329985652802, 0.62410329985652802, 0.62410329985652802, 0.62410329985652802, 0.62410329985652802, 0.62410329985652802, 0.62410329985652802, 0.62410329985652802]]\n"
     ]
    }
   ],
   "source": [
    "C = np.logspace(-5, 5, num=20, base = 10)\n",
    "\n",
    "# Creating a 2D array                \n",
    "matrix = [[0 for x in range (len(C))] for x in range(kf.n_splits)] \n",
    "\n",
    "# Numbering the kf folds\n",
    "folds = 0\n",
    "                \n",
    "for training_samples, validation_samples in kf.split(X_tr):\n",
    "    for C_index, C_values in enumerate(C):\n",
    "        lr_kfold = LogisticRegression(solver='lbfgs', C=C_values)\n",
    "        l_r_kfold = lr_kfold.fit(X_tr[training_samples], y_tr[training_samples])\n",
    "      \n",
    "        matrix[folds][C_index] = accuracy_score(y_tr[validation_samples], l_r_kfold.predict(X_tr[validation_samples]))\n",
    "    folds= folds+1\n",
    "    \n",
    "print('Classification accuracy for each cross-validation fold and parameter setting pair: \\n\\n{}'.format(matrix))\n",
    "       "
   ]
  },
  {
   "cell_type": "markdown",
   "metadata": {},
   "source": [
    "### ========== Question 1.13 --- [1 mark] ========== \n",
    "Plot the mean classification performance (across CV folds) of the logistic regression classifier against the regularisation parameter `C` by using the range from Question 1.12. Use a logarithmic scale for the x-axis and label both axes appropriately. "
   ]
  },
  {
   "cell_type": "code",
   "execution_count": 18,
   "metadata": {},
   "outputs": [
    {
     "data": {
      "text/plain": [
       "<matplotlib.text.Text at 0x7f009f8bc410>"
      ]
     },
     "execution_count": 18,
     "metadata": {},
     "output_type": "execute_result"
    },
    {
     "data": {
      "image/png": "[encoded data removed]",
      "text/plain": [
       "<matplotlib.figure.Figure at 0x7f009f7e9f90>"
      ]
     },
     "metadata": {},
     "output_type": "display_data"
    }
   ],
   "source": [
    "# Finding the mean\n",
    "m_perf = np.mean(matrix, axis=0)\n",
    "\n",
    "# Plotting\n",
    "plt.scatter(C, m_perf, color=\"m\", marker=\"*\")\n",
    "\n",
    "plt.xscale('log') \n",
    "\n",
    "plt.xlim([.00001, 100000])\n",
    "\n",
    "# Title and labels\n",
    "plt.title('Mean classification performance of the LR classifier against C', fontweight='bold')\n",
    "plt.ylabel('Mean Accuracy', fontweight='bold')\n",
    "plt.xlabel('Regularisation parameter C', fontweight='bold')\n",
    "        "
   ]
  },
  {
   "cell_type": "markdown",
   "metadata": {},
   "source": [
    "### ========== Question 1.14 --- [2 marks] ==========\n",
    "Display the optimal value for the regularisation parameter `C` determined by the search results from Question 1.12. Similarly to Question 1.13, consider the mean classifiation accuracy across CV folds. By using the optimal value (i.e. the one that yields the highest average classification accuracy) train a new `LogisticRegression` classifier and report the classification accuracy on the validation set. *(Hint: Do not pick the optimal value \"by hand\", instead use an appropriate numpy function).*"
   ]
  },
  {
   "cell_type": "code",
   "execution_count": 19,
   "metadata": {},
   "outputs": [
    {
     "name": "stdout",
     "output_type": "stream",
     "text": [
      "5\n",
      "Mean accuracy score when using the optimal value: 0.710458521238\n",
      "Optimal value for the regularisation parameter C: 0.00428133239872\n",
      "Classification accuracy for LogisticRegression, using the optimal C value: 0.696316262354\n"
     ]
    }
   ],
   "source": [
    "# The index at which it yields the highest average classification accuracy\n",
    "print(np.argmax(m_perf))\n",
    "\n",
    "print('Mean accuracy score when using the optimal value: {}'.format(m_perf[5]))\n",
    "print('Optimal value for the regularisation parameter C: {}'.format(C[5]))\n",
    "\n",
    "lr_optimal = LogisticRegression(solver='lbfgs', C=0.00428133239872)\n",
    "l_r_optimal = lr_optimal.fit(X_tr, y_tr)\n",
    "\n",
    "print('Classification accuracy for LogisticRegression, using the optimal C value: {}'.format(l_r_optimal.score(X_val, y_val)))"
   ]
  },
  {
   "cell_type": "markdown",
   "metadata": {},
   "source": [
    "### ========== Question 1.15 --- [1 mark] ========== \n",
    "Scikit-learn offers a [`LogisticRegressionCV`](http://scikit-learn.org/0.17/modules/generated/sklearn.linear_model.LogisticRegressionCV.html) module which implements Logistic Regression with builtin cross-validation to find out the optimal `C` parameter. You can specify the range for the `C` parameter, as well as the cross-validation method you want to use with the `Cs` and `cv` parameters, respectively. Use the `C` range you set up in Question 1.12 and the 3-fold cross-validation iterator from Question 1.11. Once again, train the models by using the `lbfgs` optimisation method and display the optimal value for the parameter `C`. Finally, display the classification accuracy on the validation set. Check your results are consistent with those from Question 1.14!"
   ]
  },
  {
   "cell_type": "code",
   "execution_count": 20,
   "metadata": {},
   "outputs": [
    {
     "name": "stdout",
     "output_type": "stream",
     "text": [
      "Optimal value for the regularisation parameter C: [ 0.00428133]\n",
      "Classification accuracy with LRCV: 0.696316262354\n"
     ]
    }
   ],
   "source": [
    "lr_CV = LogisticRegressionCV(Cs=C, cv=3, solver='lbfgs')\n",
    "l_r_CV = lr_CV.fit(X_tr, y_tr)\n",
    "\n",
    "print('Optimal value for the regularisation parameter C: {}'.format(l_r_CV.C_))    \n",
    "print('Classification accuracy with LRCV: {}'.format(l_r_CV.score(X_val, y_val)))"
   ]
  },
  {
   "cell_type": "markdown",
   "metadata": {},
   "source": [
    "### ========== Question 1.16 --- [1 mark] ==========\n",
    "Now, we want to validate the importance of various features for classification. For this purpose, we will use a [`RandomForestClassifier`](http://scikit-learn.org/stable/modules/generated/sklearn.ensemble.RandomForestClassifier.html) (you might want to refer to the labs if you are unsure how we can estimate feature importances with decision tree and random forest models).\n",
    "\n",
    "Initialise a random forest classifier and fit the model by using training data only and 500 trees (i.e. `n_estimators`). Set the `RandomState` equal to 42 to ensure reproducible results. Report the accuracy score on both the training and validation sets."
   ]
  },
  {
   "cell_type": "code",
   "execution_count": 21,
   "metadata": {},
   "outputs": [
    {
     "name": "stdout",
     "output_type": "stream",
     "text": [
      "Classification accuracy with RandomForest for training sets: 1.0\n",
      "Classification accuracy with RandomForest for validation sets: 0.692722371968\n"
     ]
    }
   ],
   "source": [
    "rf = RandomForestClassifier(n_estimators=500, random_state=42)\n",
    "r_f = rf.fit(X_tr, y_tr)\n",
    "\n",
    "\n",
    "print('Classification accuracy with RandomForest for training sets: {}'.format(r_f.score(X_tr, y_tr)))\n",
    "print('Classification accuracy with RandomForest for validation sets: {}'.format(r_f.score(X_val, y_val)))\n"
   ]
  },
  {
   "cell_type": "markdown",
   "metadata": {},
   "source": [
    "### ========== Question 1.17 --- [2 marks] ==========\n",
    "Comment on the results above. Do you find the discrepancy between training and validation accuracies surprising?"
   ]
  },
  {
   "cell_type": "markdown",
   "metadata": {},
   "source": [
    "The descrepancy between accuracies is not surprising. The more trees are used in a RandomForestClassifier, the better the accuracy of the validation sets. With the size of our dataset, using 500 trees shows us a good accuracy (0.692722371968) score but when using say 5000 trees, the accuracy score increases (0.700808625337), thus lowering the discrepancy. However, using more trees would be computationally expensive. As for the perfect score on training sets, this can be explained by overfitting and no pruning. "
   ]
  },
  {
   "cell_type": "markdown",
   "metadata": {},
   "source": [
    "### ========== Question 1.18 --- [2 marks] ==========\n",
    "By using the random forest model from the previous question order the features by descending importance and display the names of the 50 most important features."
   ]
  },
  {
   "cell_type": "code",
   "execution_count": 22,
   "metadata": {},
   "outputs": [
    {
     "name": "stdout",
     "output_type": "stream",
     "text": [
      "['dim21' 'dim51' 'dim360' 'dim4' 'dim479' 'dim76' 'dim283' 'dim461'\n",
      " 'dim343' 'dim398' 'dim348' 'dim74' 'dim485' 'dim356' 'dim330' 'dim217'\n",
      " 'dim263' 'dim222' 'dim134' 'dim500' 'dim274' 'dim254' 'dim206' 'dim423'\n",
      " 'dim347' 'dim17' 'dim326' 'dim90' 'dim92' 'dim329' 'dim214' 'dim322'\n",
      " 'dim289' 'dim54' 'dim440' 'dim427' 'dim73' 'dim35' 'dim77' 'dim312'\n",
      " 'dim315' 'dim96' 'dim288' 'dim483' 'dim299' 'dim48' 'dim442' 'dim201'\n",
      " 'dim344' 'dim294']\n"
     ]
    }
   ],
   "source": [
    "rf = RandomForestClassifier(n_estimators=500, random_state=42)\n",
    "r_f = rf.fit(X_tr, y_tr)\n",
    "\n",
    "attributes = np.array(attributes)\n",
    "print(attributes[(np.argsort(-r_f.feature_importances_))][:50])\n",
    "\n"
   ]
  },
  {
   "cell_type": "markdown",
   "metadata": {},
   "source": [
    "### ========== Question 1.19 --- [3 marks] ==========\n",
    "Next, we would like to test the performance of support vector machines. Train three support vector classifiers with the following kernels: linear, radial basis function, and polynomial. Report the classification accuracy of each of the three classifiers on both the training and validation sets."
   ]
  },
  {
   "cell_type": "code",
   "execution_count": 23,
   "metadata": {},
   "outputs": [
    {
     "name": "stdout",
     "output_type": "stream",
     "text": [
      "Classification accuracy with Linear SVM\n",
      "Training sets: 0.79646440516\n",
      "Validation sets: 0.627133872417\n",
      "\n",
      "Classification accuracy with Radial Basis SVM\n",
      "Training sets: 0.910654562828\n",
      "Validation sets: 0.729559748428\n",
      "\n",
      "Classification accuracy with Polynomial SVM\n",
      "Training sets: 0.990922121357\n",
      "Validation sets: 0.701707097934\n"
     ]
    }
   ],
   "source": [
    "# Linear SVM\n",
    "svc_linear = LinearSVC()\n",
    "svc_linear.fit(X_tr, y_tr)\n",
    "\n",
    "print('Classification accuracy with Linear SVM')\n",
    "print('Training sets: {}'.format(svc_linear.score(X_tr, y_tr)))\n",
    "print('Validation sets: {}'.format(svc_linear.score(X_val, y_val)))\n",
    "print()\n",
    "\n",
    "# Radial Basis SVM\n",
    "svc_rbf = SVC(kernel='rbf')\n",
    "svc_rbf.fit(X_tr, y_tr)\n",
    "\n",
    "print('Classification accuracy with Radial Basis SVM')\n",
    "print('Training sets: {}'.format(svc_rbf.score(X_tr, y_tr)))\n",
    "print('Validation sets: {}'.format(svc_rbf.score(X_val, y_val)))\n",
    "print()\n",
    "\n",
    "# Polynomial SVM\n",
    "svc_poly = SVC(kernel='poly')\n",
    "svc_poly.fit(X_tr, y_tr)\n",
    "\n",
    "print('Classification accuracy with Polynomial SVM')\n",
    "print('Training sets: {}'.format(svc_poly.score(X_tr, y_tr)))\n",
    "print('Validation sets: {}'.format(svc_poly.score(X_val, y_val)))"
   ]
  },
  {
   "cell_type": "markdown",
   "metadata": {},
   "source": [
    "### ========== Question 1.20 --- [3 marks] ==========\n",
    "At this point, we would like to get an idea of what kind of decision boundaries we can get with the three types of SVM kernels we introduced in the previous question. For visualisation, however, we can only make use of 2D input data. For this purpose, we select to use the 21st and 76th columns of our training features (*hint: remember that Python uses 0-based indexing*). \n",
    "\n",
    "Execute the cell below to define a useful function which we will be using to plot the decision boundaries *(it is also not a bad idea to try to understand what this functions does)*. \n",
    "\n",
    "Then train three distinct SVM classifiers by using the 2D input data mentioned above and default parameters:\n",
    "* a linear SVC\n",
    "* an RBF SVC \n",
    "* a polynomial SVC\n",
    "\n",
    "Finally, create a list containing the three classifiers you have just trained. Use this list as an input to the provided function along with the used training features and observe the outcome. You can use the additional `title` parameter to set the titles in the subplots. Comment on the shape of the boundaries and what this means for classification accuracy in 1-2 sentences.\n",
    "\n",
    "*(Acknowledgement: this Question has been heavily based on [this example](http://scikit-learn.org/0.17/auto_examples/svm/plot_iris.html) from scikit-learn's documentation.)*"
   ]
  },
  {
   "cell_type": "code",
   "execution_count": 24,
   "metadata": {
    "collapsed": true
   },
   "outputs": [],
   "source": [
    "def show_svc_decision_boundaries(clfs, X, title=None):\n",
    "    \"\"\"Plots decision boundaries for classifiers with 2D inputs.\n",
    "    \n",
    "    Parameters\n",
    "    ----------\n",
    "    clf : list\n",
    "        Classifiers for which decision boundaries will be displayed.\n",
    "    X : array\n",
    "        Input features used to train the classifiers.\n",
    "    title : list, optional\n",
    "        Titles for classifiers.\n",
    "    \n",
    "    \"\"\"\n",
    "    \n",
    "    assert X.shape[1] == 2 # Input should be 2D\n",
    "    if title is not None:\n",
    "        assert len(clfs) == len(title)\n",
    "    \n",
    "    h = .04 # step size in the mesh\n",
    "    x_min, x_max = X[:, 0].min() - 1, X[:, 0].max() + 1\n",
    "    y_min, y_max = X[:, 1].min() - 1, X[:, 1].max() + 1\n",
    "    xx, yy = np.meshgrid(np.arange(x_min, x_max, h),\n",
    "                         np.arange(y_min, y_max, h))\n",
    "    plt.figure(figsize=(15,5))\n",
    "    for i, clf in enumerate(clfs):\n",
    "        plt.subplot(1, len(clfs), i + 1)\n",
    "        plt.subplots_adjust(wspace=0.4, hspace=0.4)\n",
    "        Z = clf.predict(np.c_[xx.ravel(), yy.ravel()])\n",
    "        Z = Z.reshape(xx.shape)\n",
    "        plt.contourf(xx, yy, Z, cmap=plt.cm.Paired, alpha=0.8)\n",
    "        # Training points\n",
    "        plt.scatter(X[:, 0], X[:, 1], c=y_tr, cmap=plt.cm.Paired)\n",
    "        plt.xlabel('Feature 1')\n",
    "        plt.ylabel('Feature 2')\n",
    "        plt.xlim(xx.min(), xx.max())\n",
    "        plt.ylim(yy.min(), yy.max())\n",
    "        plt.xticks(())\n",
    "        plt.yticks(())\n",
    "        if title is not None:\n",
    "            plt.title(title[i])"
   ]
  },
  {
   "cell_type": "code",
   "execution_count": 25,
   "metadata": {},
   "outputs": [
    {
     "data": {
      "image/png": "[encoded data removed]",
      "text/plain": [
       "<matplotlib.figure.Figure at 0x7f009f7e9850>"
      ]
     },
     "metadata": {},
     "output_type": "display_data"
    }
   ],
   "source": [
    "# Creating a list\n",
    "clfs = []\n",
    "\n",
    "# Defining X and y \n",
    "X = X_tr[:, [20, 75]]\n",
    "y = y_tr\n",
    "\n",
    "\n",
    "# Linear SVM\n",
    "svc_linear_new = LinearSVC()\n",
    "svcl = svc_linear_new.fit(X, y)\n",
    "\n",
    "# Radial Basis Function SVM\n",
    "svc_rbf_new = SVC(kernel='rbf')\n",
    "svcr = svc_rbf_new.fit(X, y)\n",
    "\n",
    "# Polynomial SVM\n",
    "svc_poly_new = SVC(kernel='poly')\n",
    "svcp = svc_poly_new.fit(X, y)\n",
    "\n",
    "# Filling the list\n",
    "clfs.append(svcl)\n",
    "clfs.append(svcr)\n",
    "clfs.append(svcp)\n",
    "\n",
    "show_svc_decision_boundaries(clfs, X, title=[\"Linear\", \"RBF\", \"Polynomial\"])\n"
   ]
  },
  {
   "cell_type": "markdown",
   "metadata": {},
   "source": [
    "Accuracy scores improve when using kernels and so we can see that RBF and Polynomial boundary shapes allow for better accuracy than the Linear SVM. Furthermore, a Linear SVM does not do as well with data from images because these are continuous data. RBF has the most relevant separating hyperplane because it can fit smooth solutions for image classifying.  "
   ]
  },
  {
   "cell_type": "markdown",
   "metadata": {},
   "source": [
    "### ========== Question 1.21 --- [5 marks] ==========\n",
    "So far we have used default parameters for training the SVM classifiers. Now we want to tune the parameters by using cross-validation. \n",
    "\n",
    "By using the `K-fold` iterator from Question 1.11 and training data only, estimate the classification accuracy of an SVM classifier with RBF kernel, while you vary the penalty parameter `C` in a logarithmic range `np.logspace(-2, 3, 10)`. Set the kernel coefficient parameter `gamma` to `auto` for this question. \n",
    "\n",
    "Plot the mean cross-validated classification accuracy against the regularisation parameter `C` by using a log-scale for the x-axis. Display the highest obtained mean accuracy score and the value of `C` which yielded it. Label axes appropriately. \n",
    "\n",
    "Finally, train a classifier by using the optimal value for this parameter (without using cross-validation at this stage) and report the classification accuracy on the training and validation sets. "
   ]
  },
  {
   "cell_type": "code",
   "execution_count": 26,
   "metadata": {},
   "outputs": [
    {
     "name": "stdout",
     "output_type": "stream",
     "text": [
      "[array([ 0.56017192,  0.54584527,  0.54662841]), array([ 0.58309456,  0.54584527,  0.54806313]), array([ 0.67191977,  0.69770774,  0.68579627]), array([ 0.70200573,  0.73782235,  0.69727403]), array([ 0.71346705,  0.73925501,  0.69296987]), array([ 0.70916905,  0.71346705,  0.68292683]), array([ 0.70916905,  0.71346705,  0.68292683]), array([ 0.70916905,  0.71346705,  0.68292683]), array([ 0.70916905,  0.71346705,  0.68292683]), array([ 0.70916905,  0.71346705,  0.68292683])]\n"
     ]
    }
   ],
   "source": [
    "C2 = np.logspace(-2, 3, 10)\n",
    "\n",
    "# Creating a 2D array                \n",
    "matrix2 = [] \n",
    "        \n",
    "# Looping through and getting the accuracy score for each iteration\n",
    "for C2_index, C2_values in enumerate(C2):\n",
    "    svc_rbf_CV = SVC(kernel='rbf', gamma='auto', C=C2_values)\n",
    "    svc_AC = cross_val_score(svc_rbf_CV, X_tr, y_tr, cv = kf)\n",
    "    matrix2.append(cross_val_score(svc_rbf_CV, X_tr, y_tr, cv = kf))\n",
    "\n",
    "print(matrix2)"
   ]
  },
  {
   "cell_type": "code",
   "execution_count": 27,
   "metadata": {
    "collapsed": true
   },
   "outputs": [],
   "source": [
    "# Finding the mean\n",
    "m_SVC = np.mean(matrix2, axis=1)"
   ]
  },
  {
   "cell_type": "code",
   "execution_count": 28,
   "metadata": {},
   "outputs": [
    {
     "data": {
      "text/plain": [
       "<matplotlib.text.Text at 0x7f009d9f0fd0>"
      ]
     },
     "execution_count": 28,
     "metadata": {},
     "output_type": "execute_result"
    },
    {
     "data": {
      "image/png": "[encoded data removed]",
      "text/plain": [
       "<matplotlib.figure.Figure at 0x7f009da1ab10>"
      ]
     },
     "metadata": {},
     "output_type": "display_data"
    }
   ],
   "source": [
    "# Plotting\n",
    "plt.scatter(C2, m_SVC, color=\"m\", marker=\"*\")\n",
    "\n",
    "plt.xscale('log') \n",
    "\n",
    "# Title and labels\n",
    "plt.title('Mean cross-validated classification accuracy against the regularisation parameter C ', fontweight='bold')\n",
    "plt.ylabel('Mean Accuracy', fontweight='bold')\n",
    "plt.xlabel('Regularisation parameter C', fontweight='bold')"
   ]
  },
  {
   "cell_type": "code",
   "execution_count": 29,
   "metadata": {},
   "outputs": [
    {
     "name": "stdout",
     "output_type": "stream",
     "text": [
      "4\n",
      "Mean accuracy score when using the optimal value: 0.715230644637\n",
      "Optimal value for the regularisation parameter C: 1.6681005372\n",
      "\n",
      "Classification accuracy for SVM, using the optimal C value\n",
      "Training sets: 0.974677496417\n",
      "Validation sets: 0.727762803235\n"
     ]
    }
   ],
   "source": [
    "# The index at which it yields the highest average classification accuracy\n",
    "print(np.argmax(m_SVC))\n",
    "\n",
    "print('Mean accuracy score when using the optimal value: {}'.format(m_SVC[4]))\n",
    "print('Optimal value for the regularisation parameter C: {}'.format(C2[4]))\n",
    "\n",
    "svc_rbf_X = SVC(kernel='rbf', gamma='auto', C=1.6681005372)\n",
    "svc_X = svc_rbf_X.fit(X_tr, y_tr)\n",
    "\n",
    "print('\\nClassification accuracy for SVM, using the optimal C value')\n",
    "print('Training sets: {}'.format(svc_X.score(X_tr, y_tr)))\n",
    "print('Validation sets: {}'.format(svc_X.score(X_val, y_val)))"
   ]
  },
  {
   "cell_type": "markdown",
   "metadata": {},
   "source": [
    "### ========== Question 1.22 --- [5 marks] ==========\n",
    "Now we turn to the kernel coefficient `gamma` parameter. By using the same procedure as in the previous question, estimate the classification accuracy of an SVM classifier with RBF kernel while you vary the `gamma` parameter in a logarithmic range `logspace(-5, 0, 10)`. Fix the penalty parameter `C=1.0`.\n",
    "\n",
    "Plot the mean cross-validated classification accuracy against the parameter `gamma` by using a log-scale for the x-axis. Display the highest obtained mean accuracy score and the value of `gamma` which yielded it.  Label axes appropriately.\n",
    "\n",
    "Finally, train a classifier by using the optimal value for this parameter (without using cross-validation at this stage) and report the classification accuracy on the training and validation sets. "
   ]
  },
  {
   "cell_type": "code",
   "execution_count": 30,
   "metadata": {},
   "outputs": [
    {
     "name": "stdout",
     "output_type": "stream",
     "text": [
      "[array([ 0.56160458,  0.54584527,  0.54662841]), array([ 0.66189112,  0.65902579,  0.64418938]), array([ 0.67191977,  0.71060172,  0.65710187]), array([ 0.70487106,  0.74498567,  0.68149211]), array([ 0.71346705,  0.74212034,  0.69296987]), array([ 0.71060172,  0.7234957 ,  0.68292683]), array([ 0.56017192,  0.54584527,  0.54662841]), array([ 0.56017192,  0.54584527,  0.54662841]), array([ 0.56017192,  0.54584527,  0.54662841]), array([ 0.56017192,  0.54584527,  0.54662841])]\n"
     ]
    }
   ],
   "source": [
    "C3 = np.logspace(-5, 0, 10)\n",
    "\n",
    "# Creating a 2D array                \n",
    "matrix3 = [] \n",
    "type(matrix3)\n",
    "                \n",
    "# Looping through and getting the accuracy score for each iteration\n",
    "for C3_index, C3_values in enumerate(C3):\n",
    "    svc_rbf_CV = SVC(kernel='rbf', gamma=C3_values, C=1.0)\n",
    "    svc_AC = cross_val_score(svc_rbf_CV, X_tr, y_tr, cv = kf)\n",
    "    matrix3.append(cross_val_score(svc_rbf_CV, X_tr, y_tr, cv = kf))\n",
    "\n",
    "print(matrix3)"
   ]
  },
  {
   "cell_type": "code",
   "execution_count": 31,
   "metadata": {
    "collapsed": true
   },
   "outputs": [],
   "source": [
    "# Finding the mean\n",
    "m_SVC_g = np.mean(matrix3, axis=1)"
   ]
  },
  {
   "cell_type": "code",
   "execution_count": 32,
   "metadata": {},
   "outputs": [
    {
     "data": {
      "text/plain": [
       "<matplotlib.text.Text at 0x7f009f82a3d0>"
      ]
     },
     "execution_count": 32,
     "metadata": {},
     "output_type": "execute_result"
    },
    {
     "data": {
      "image/png": "[encoded data removed]",
      "text/plain": [
       "<matplotlib.figure.Figure at 0x7f009d870950>"
      ]
     },
     "metadata": {},
     "output_type": "display_data"
    }
   ],
   "source": [
    "# Plotting\n",
    "plt.scatter(C3, m_SVC_g, color=\"m\", marker=\"*\")\n",
    "\n",
    "plt.xscale('log') \n",
    "plt.xlim([.00005, 2])\n",
    "\n",
    "# Title and labels\n",
    "plt.title('Mean cross-validated classification accuracy against the regularisation parameter C ', fontweight='bold')\n",
    "plt.ylabel('Mean Accuracy', fontweight='bold')\n",
    "plt.xlabel('Regularisation parameter C', fontweight='bold')"
   ]
  },
  {
   "cell_type": "code",
   "execution_count": 33,
   "metadata": {},
   "outputs": [
    {
     "name": "stdout",
     "output_type": "stream",
     "text": [
      "4\n",
      "Mean accuracy score when using the optimal value: 0.716185754475\n",
      "Optimal value for the regularisation parameter C: 0.0016681005372\n",
      "\n",
      "Classification accuracy for SVM, using the optimal C value\n",
      "Training sets: 0.974677496417\n",
      "Validation sets: 0.727762803235\n"
     ]
    }
   ],
   "source": [
    "# The index at which it yields the highest average classification accuracy\n",
    "print(np.argmax(m_SVC_g))\n",
    "\n",
    "print('Mean accuracy score when using the optimal value: {}'.format(m_SVC_g[4]))\n",
    "print('Optimal value for the regularisation parameter C: {}'.format(C3[4]))\n",
    "\n",
    "svc_rbf_Z = SVC(kernel='rbf', gamma='auto', C=0.0016681005372)\n",
    "svc_Z = svc_rbf_Z.fit(X_tr, y_tr)\n",
    "\n",
    "print('\\nClassification accuracy for SVM, using the optimal C value')\n",
    "print('Training sets: {}'.format(svc_X.score(X_tr, y_tr)))\n",
    "print('Validation sets: {}'.format(svc_X.score(X_val, y_val)))"
   ]
  },
  {
   "cell_type": "markdown",
   "metadata": {},
   "source": [
    "### ========== Question 1.23 --- [7 marks] ==========\n",
    "Now we wish to tune both the `C` and `gamma` parameters simultaneously. To save computational time, we will now constrain the parameter search space. Define a `4 X 4` grid for the two parameters, as follows:\n",
    "* `C`: `np.logspace(-2, 1, 4)`\n",
    "* `gamma`: `np.logspace(-4, -1, 4)`\n",
    "\n",
    "Estimate the mean cross-validated classification accuracy by using training data only and all possible configurations for the two parameters. \n",
    "\n",
    "Use a [heatmap](https://seaborn.github.io/generated/seaborn.heatmap.html?highlight=heatmap#seaborn.heatmap) to visualise the mean cross-validated classification accuracy for all `C`-`gamma` pairs. Label axes appropriately and display the values for `C` and `gamma` for the best performing configuration. \n",
    "\n",
    "Finally, by using the optimal configuration, train a classifier (without using cross-validation) and report the classification accuracy on the training and validation sets."
   ]
  },
  {
   "cell_type": "code",
   "execution_count": 34,
   "metadata": {},
   "outputs": [
    {
     "name": "stdout",
     "output_type": "stream",
     "text": [
      "mean cross-validated classification accuracy: \n",
      "\n",
      "[[0.55088186647920756, 0.55088186647920756, 0.68130985708980629, 0.70997754053050388], [0.55088186647920756, 0.68322692834209653, 0.71236257449377127, 0.69086986251625537], [0.55088186647920756, 0.55088186647920756, 0.64595571962798681, 0.66363004772808554], [0.55088186647920756, 0.55088186647920756, 0.55088186647920756, 0.55088186647920756]]\n"
     ]
    }
   ],
   "source": [
    "C4 = np.logspace(-2, 1, 4)\n",
    "g1 = np.logspace(-4, -1, 4)\n",
    "\n",
    "# Creating a 4 by 4 grid               \n",
    "matrix4 = [[0 for x in range (len(C4))] for x in range(len(g1))]\n",
    "\n",
    "for g1_index, g1_values in enumerate(g1):\n",
    "    for C4_index, C4_values in enumerate(C4):\n",
    "        svc_rbf_cg = SVC(kernel='rbf', gamma=g1_values, C=C4_values)\n",
    "        matrix4[g1_index][C4_index] = np.mean(cross_val_score(svc_rbf_cg, X_tr, y_tr, cv = kf))\n",
    "    \n",
    "    \n",
    "print('mean cross-validated classification accuracy: \\n\\n{}'.format(matrix4))"
   ]
  },
  {
   "cell_type": "code",
   "execution_count": 35,
   "metadata": {},
   "outputs": [
    {
     "data": {
      "text/plain": [
       "array([ 0.62326278,  0.65933531,  0.60283738,  0.55088187])"
      ]
     },
     "execution_count": 35,
     "metadata": {},
     "output_type": "execute_result"
    }
   ],
   "source": [
    "# Finding the mean\n",
    "m_svc_rbf_cg = np.mean(matrix4, axis=1)\n",
    "m_svc_rbf_cg"
   ]
  },
  {
   "cell_type": "code",
   "execution_count": 36,
   "metadata": {},
   "outputs": [
    {
     "data": {
      "text/plain": [
       "<matplotlib.text.Text at 0x7f009da71610>"
      ]
     },
     "execution_count": 36,
     "metadata": {},
     "output_type": "execute_result"
    },
    {
     "data": {
      "image/png": "[encoded data removed]",
      "text/plain": [
       "<matplotlib.figure.Figure at 0x7f009d6fcdd0>"
      ]
     },
     "metadata": {},
     "output_type": "display_data"
    }
   ],
   "source": [
    "# Plotting\n",
    "plt.scatter(C4, m_svc_rbf_cg, color=\"m\", marker=\"*\")\n",
    "\n",
    "plt.xscale('log') \n",
    "plt.xlim([.00005, 10000])\n",
    "\n",
    "# Title and labels\n",
    "plt.title('Mean cross-validated classification accuracy for all C-gamma pairs ', fontweight='bold')\n",
    "plt.ylabel('gamma', fontweight='bold')\n",
    "plt.xlabel('Regularisation parameter C', fontweight='bold')"
   ]
  },
  {
   "cell_type": "code",
   "execution_count": 37,
   "metadata": {},
   "outputs": [
    {
     "data": {
      "image/png": "[encoded data removed]",
      "text/plain": [
       "<matplotlib.figure.Figure at 0x7f009d76a950>"
      ]
     },
     "metadata": {},
     "output_type": "display_data"
    }
   ],
   "source": [
    "# Plotting heat map\n",
    "cgamma_hot = sns.heatmap(matrix4, cmap=plt.cm.rainbow, annot=True)"
   ]
  },
  {
   "cell_type": "code",
   "execution_count": 38,
   "metadata": {},
   "outputs": [
    {
     "name": "stdout",
     "output_type": "stream",
     "text": [
      "1\n",
      "Mean accuracy score when using the optimal value: 0.659335307958\n",
      "Optimal value for the regularisation parameter C: 0.1\n",
      "Optimal value for the regularisation parameter gamma: 0.001\n",
      "\n",
      "Classification accuracy for SVM, using the optimal C and gamma value\n",
      "Training sets: 0.718107978978\n",
      "Validation sets: 0.685534591195\n"
     ]
    }
   ],
   "source": [
    "# The index at which it yields the highest average classification accuracy\n",
    "print(np.argmax(m_svc_rbf_cg))\n",
    "\n",
    "print('Mean accuracy score when using the optimal value: {}'.format(m_svc_rbf_cg[1]))\n",
    "print('Optimal value for the regularisation parameter C: {}'.format(C4[1]))\n",
    "print('Optimal value for the regularisation parameter gamma: {}'.format(g1[1]))\n",
    "\n",
    "\n",
    "svc_rbf_cg2 = SVC(kernel='rbf', gamma=0.001, C=0.1)\n",
    "svc_cg2 = svc_rbf_cg2.fit(X_tr, y_tr)\n",
    "\n",
    "print('\\nClassification accuracy for SVM, using the optimal C and gamma value')\n",
    "print('Training sets: {}'.format(svc_cg2.score(X_tr, y_tr)))\n",
    "print('Validation sets: {}'.format(svc_cg2.score(X_val, y_val)))"
   ]
  },
  {
   "cell_type": "markdown",
   "metadata": {},
   "source": [
    "### ========== Question 1.24 --- [3 marks] ==========\n",
    "Is the classification accuracy on the validation set higher than in previous questions (1.22-1.23)? If not, can you explain why? Can you think of a way of further improving the performance of the classifier? You don't need to implement your suggestion at this stage. Would there be any associated problems with your suggested approach? "
   ]
  },
  {
   "cell_type": "markdown",
   "metadata": {},
   "source": [
    "The classification accuracy on the validation set is not higher than in the previous question. This is because in Q1.23, both C and gamma optimal values were used to fit the model unlike in Q1.22 (where only the optimal C value was used).\n",
    "\n",
    "It is likely that the model may have been overfitted with the use of both parameters because C values lead to memorizing the training set while gamma values lead to a 'narrow Gaussians that are condensed around each point' (source:  https://stackoverflow.com/questions/23391151/are-high-values-for-c-or-gamma-problematic-when-using-an-rbf-kernel-svm). Because of this, when applied to the validation sets, we have a lower accuracy score since the model is now not generalized enough.\n",
    "\n",
    "Another way to further improve the performance of the classifier is by using Leave One Out cross validation. However, it has a high variation since only one validation set is used. \n"
   ]
  },
  {
   "cell_type": "markdown",
   "metadata": {},
   "source": [
    "### ========== Question 1.25 --- [5 marks] ==========\n",
    "Now we want to evaluate the performance of an SVM classifier with polynomial kernel. Once again, we will tune the `degree` parameter by using cross-validation (similarly to what we did in Questions 1.21 and 1.22).\n",
    "\n",
    "By using the `K-fold` iterator from Question 1.11 and training data only, estimate the classification accuracy of polynomial SVM classifier, while you vary the `degree` parameter in the range `np.arange(1,8)`. \n",
    "\n",
    "Plot the mean cross-validated classification accuracy against the polynomial degree. Display the highest obtained mean accuracy score and the value of the `degree` parameter which yielded it. Label axes appropriately. \n",
    "\n",
    "Finally, train a classifier by using the optimal value for this parameter (without using cross-validation at this stage) and report the classification accuracy on the training and validation sets. "
   ]
  },
  {
   "cell_type": "code",
   "execution_count": 39,
   "metadata": {},
   "outputs": [
    {
     "name": "stdout",
     "output_type": "stream",
     "text": [
      "[array([ 0.67908309,  0.74498567,  0.68436155]), array([ 0.6747851 ,  0.67908309,  0.64131994]), array([ 0.65472779,  0.71060172,  0.68723099]), array([ 0.61318052,  0.60888252,  0.66140603]), array([ 0.63180516,  0.58309456,  0.60114778]), array([ 0.58309456,  0.56017192,  0.57962697]), array([ 0.55730659,  0.55444126,  0.57245337])]\n"
     ]
    }
   ],
   "source": [
    "d_p = np.arange(1,8)\n",
    "\n",
    "# Creating a matrix               \n",
    "matrix_A = []\n",
    "\n",
    "#print(type(matrix_A))\n",
    "                \n",
    "# Looping through and getting the accuracy score for each iteration\n",
    "for n in d_p:\n",
    "    svc_poly_1 = SVC(kernel='poly', gamma='auto', degree=n)\n",
    "    #svc_poly = cross_val_score(svc_poly_1, X_tr, y_tr, cv = kf)\n",
    "    matrix_A.append(cross_val_score(svc_poly_1, X_tr, y_tr, cv = kf))\n",
    "\n",
    "print(matrix_A)\n"
   ]
  },
  {
   "cell_type": "markdown",
   "metadata": {},
   "source": [
    "### ========== Question 1.26 --- [4 marks] ==========\n",
    "\n",
    "You might have noticted that so far, we have used cross-validation for optimising the various tuning parameters (e.g. regularisation parameter in logistic regression, SVM kernel parameters) rather than hold-out validation, although we did have access to a validation set. Why do you think this is a good/bad idea? Give one advantage and one disadvantage of the two different approaches. Which one would you trust more in practice?"
   ]
  },
  {
   "cell_type": "markdown",
   "metadata": {},
   "source": [
    "Two disadvantages of the hold-out method are a high variance because we don't know which datapoints will end up in the training set (which could potentially lead to a misleading error rate) and if our sample size is small, we may not have the luxury to set aside a whole set for validation purposes. An advantage of hold-out is that it is not computationally expensive since it doesn't need to train many sets. It's also simple to implement in comparison to many other methods.\n",
    "\n",
    "Cross validation is good because it matters less how the data is divided. Each data point gets tested once but is repeatedly used in training, k times. Another advantage is that it works great for small samples since we don't need to leave any out. However, k times as many sets means k times the amount of computation, from scratch, is required making this a an expensive validation model to run. Furthermore, a small data set would bring about higher error rates.\n",
    "\n",
    "I would use the hold-out method simply because Occam's Razor applies very well here; the simplest is the best. "
   ]
  },
  {
   "cell_type": "markdown",
   "metadata": {},
   "source": [
    "### ========== Question 1.27 --- [6 marks] ==========\n",
    "\n",
    "Reload the full training and validation data that contain all indicator variables for all object categories. Remove the `imgId` attribute but keep all of the class indicator variables in the dataset this time. Your training features should include all attributes except `is_person` which should be your target variable. \n",
    "\n",
    "Once again, use a [StandardScaler](http://scikit-learn.org/0.17/modules/generated/sklearn.preprocessing.StandardScaler.html) to standardise your training and validation features. Then train a Random Forest Classifier by using the entropy `criterion`, 500 `n_estimators`, and also set the `random_state` to 31. Report the classification accuracy on the training and validation sets.\n",
    "\n",
    "Similarly to what we did in Question 1.18, order the features by decreasing importance and display the 50 most important features. \n",
    "\n",
    "Finally, answer the following questions:\n",
    "* What do you notice by looking at the list of the best 50 features?\n",
    "* How does the performance differ with respect to the case when the additional class indicator variables are not present (Question 1.16)? Relate your observations to the observed feature ranking.\n",
    "* Would it be easy to make use of the results in practice? Briey explain your reasoning.\n",
    "\n",
    "*(Hint: you might want to look at some of the [images](http://www.inf.ed.ac.uk/teaching/courses/iaml/2014/assts/asst3/images.html) to justify your explanations.)*"
   ]
  },
  {
   "cell_type": "code",
   "execution_count": 40,
   "metadata": {
    "collapsed": true
   },
   "outputs": [],
   "source": [
    "# Your code goes here"
   ]
  },
  {
   "cell_type": "markdown",
   "metadata": {},
   "source": [
    "*Your answer goes here*"
   ]
  },
  {
   "cell_type": "markdown",
   "metadata": {},
   "source": [
    "## Mini challenge [30%]"
   ]
  },
  {
   "cell_type": "markdown",
   "metadata": {},
   "source": [
    "*Important: You are allowed to write up to a maximum of 600 words in this part of the assignment. The thoroughness of the exploration and the quality of the resulting discussion is just as important as the final classification performance of your chosen method(s) and credit will be divided accordingly.*"
   ]
  },
  {
   "cell_type": "markdown",
   "metadata": {},
   "source": [
    "In this final part of the assignment we will have a mini object-recognition challenge. Using the data provided you are asked to find the best classiffier for the person/no person classification task. You can apply any preprocessing steps to the data that you think fit and employ any classifier you like (with the provison that you can explain what the classifier is/preprocessing steps are doing). You can also employ any lessons learnt during the course, either from previous Assignments, the Labs or the lecture material to try and squeeze out as much performance as you possibly can. The only restriction is that all steps must be performed in `Python` by using the `numpy`, `pandas` and `sklearn` packages. You can also make use of `matplotlib` and `seaborn` for visualisation. "
   ]
  },
  {
   "cell_type": "markdown",
   "metadata": {},
   "source": [
    "**Important:** The classification performance metric that we will use for this part is the *cross-entropy* or *logarithmic loss* (see the labs). You should familiarise yourself with the metric by reading the `sklearn` [user guide](http://scikit-learn.org/stable/modules/model_evaluation.html#log-loss) and [documentation](http://scikit-learn.org/stable/modules/generated/sklearn.metrics.log_loss.html#sklearn.metrics.log_loss). To estimate this metric you will need to evaluate probability outputs, as opposed to discrete predictions which we have used so far to compute classification accuracies. Most models in `sklearn` implement a `predict_proba()` method which returns the probabilities for each class. For instance, if your test set consists of `N` datapoints and there are `K` classes, the method will return a `N` x `K` matrix."
   ]
  },
  {
   "cell_type": "markdown",
   "metadata": {},
   "source": [
    "We provide you with three new data sets: a training set (`train_images_partB.csv`), a validation set (`valid_images_partB.csv`), and a test set (`test_images_partB.csv`). You must use the former two for training and evaluating your models (as you see fit). Once you have chosen your favourite model (and pre-processing steps) you should apply it to the test set (for which no labels are provided). Estimate the posterior proabilities for the data points in the test set and submit your results as part of your answer. Your results will be evaluated in terms of the logarithmic loss metric. You also need to submit a brief description of the approaches you considered, your suggested final approach, and a short explanation of why you chose it. The thoroughness of the exploration and the quality of the resulting discussion is just as important as the final score of your chosen method(s) and credit will be divided accordingly.\n",
    "\n",
    "*Hint: Feature engineering, feature combination, model combination and model parameter optimization can significantly improve performance.*"
   ]
  },
  {
   "cell_type": "markdown",
   "metadata": {},
   "source": [
    "**How to submit your results**: Store the estimated probabilities for the data points in the test set in a 2D numpy array. Then execute the provided cell at the end of this notebook which uses a provided `save_predictions` function to export your results into a `.txt` file (the function will return an error if the provided array has not the right shape). The `.txt` file will be saved where your notebook lives. Submit this file along with your notebook as detailed at the top of this file."
   ]
  },
  {
   "cell_type": "markdown",
   "metadata": {},
   "source": [
    "Looking at the data, we know that we have enough to start predicting (2093 data points in train_B). Because we are predicting a category and not a quantity, we can immediately eliminate using regression or having to carry out dimensionality reduction. The training data is labelled so we don't need to look at clustering - ours is supervised learning. \n",
    "\n",
    "Before moving further, I decided to use log loss as a measure. Log loss and cross entropy are both measures of error and are similar in their underlying maths algorithms. However, in our case, it would be better to use log loss simply because our aim is to do object-recognition: whether the image has a person or does not have a person. This makes it a binary classification problem and log loss is best equipped to handle this. \n",
    "\n",
    "As my baseline, I have chosen the DummyClassifier which always predicts the attributes that are the most.\n",
    "\n",
    "I've preprocessed my data by instantiating a StandardScaler and tranforming the data so that they have (close to) zero mean and unit standard deviation.\n",
    "\n",
    "THE CLASSIFIERS \n",
    "\n",
    "I've fit a total of 6 classifiers. \n",
    "\n",
    "First I looked at Support Vector Machines (Linear, Radial Bias Function and Polynomial). Linear performed horribly, probably since they have linear decision boundaries or intersecting hyperplanes which didn't work well with our data. Of the two more flexible kernel models, polynomial did best (0.692). However, running the SVM's were computationally expensive. \n",
    "\n",
    "Next, I fit a Gaussian Naive Bayes, I got a log loss score of 18.18. This extremely bad score can be explained by a number of things. First, Naive Bayes is easily affected by the presence of outliers. It's also usually used for text data not image data. Instead of removing the outliers, first I tried fitting a Random Forest classifier on the data (as this classifier is not sensitive to outliers. The results are exponentially better (0.5825). In fact, increasing the number of trees (n_estimators), lowers the log loss further though the more trees we use, the more computationally expensive it is. I set mine to 5000 as this seemed like a reasonable amount of time to wait for a better log loss. Furthermore, this also means less overfitting since the classifier averages the results over so many trees. \n",
    "\n",
    "Because RF worked well, I tried Decision Trees and Extra Trees but neither produced better results. \n",
    "\n",
    "I also tried fitting a Nearest Neighbours model but this also gave a high log loss, showing bad results. \n",
    "\n",
    "Next I created an ensemble with the two best performing classifiers: Polynomial SVM and Random Forest. This yielded results worse than RF but better than the polynomial SVM model individually. \n",
    "\n",
    "Also, most did better than the DummyClassifier though not all. \n",
    "\n",
    "FURTHER FEATURE ENGINEERING \n",
    "\n",
    "Now that I've tried multiple classifiers, it is clear that polynomial SVM and RF are worth looking into further. Here I would have liked to further normalize or standardize the data before refitting to see if feature engineering would better my log loss for any of the short listed classifiers but it is too compuationally expensive to run it now. If I could, I would have tuned the gamma and C parameters. I would also have liked to normalize the data using log or square root. \n",
    "\n",
    "\n",
    "In conclusion, I'd choose Random Forest and tune the parameters to get a better fit. \n",
    "\n",
    "\n"
   ]
  },
  {
   "cell_type": "code",
   "execution_count": 41,
   "metadata": {},
   "outputs": [
    {
     "name": "stdout",
     "output_type": "stream",
     "text": [
      "Data points for train_B: 2113\n",
      "Data points for valid_B: 1113\n"
     ]
    },
    {
     "data": {
      "text/html": [
       "<div>\n",
       "<style>\n",
       "    .dataframe thead tr:only-child th {\n",
       "        text-align: right;\n",
       "    }\n",
       "\n",
       "    .dataframe thead th {\n",
       "        text-align: left;\n",
       "    }\n",
       "\n",
       "    .dataframe tbody tr th {\n",
       "        vertical-align: top;\n",
       "    }\n",
       "</style>\n",
       "<table border=\"1\" class=\"dataframe\">\n",
       "  <thead>\n",
       "    <tr style=\"text-align: right;\">\n",
       "      <th></th>\n",
       "      <th>dim1</th>\n",
       "      <th>dim2</th>\n",
       "      <th>dim3</th>\n",
       "      <th>dim4</th>\n",
       "      <th>dim5</th>\n",
       "      <th>dim6</th>\n",
       "      <th>dim7</th>\n",
       "      <th>dim8</th>\n",
       "      <th>dim9</th>\n",
       "      <th>dim10</th>\n",
       "      <th>...</th>\n",
       "      <th>is_cow</th>\n",
       "      <th>is_diningtable</th>\n",
       "      <th>is_dog</th>\n",
       "      <th>is_horse</th>\n",
       "      <th>is_motorbike</th>\n",
       "      <th>is_person</th>\n",
       "      <th>is_pottedplant</th>\n",
       "      <th>is_sheep</th>\n",
       "      <th>is_sofa</th>\n",
       "      <th>is_tvmonitor</th>\n",
       "    </tr>\n",
       "  </thead>\n",
       "  <tbody>\n",
       "    <tr>\n",
       "      <th>count</th>\n",
       "      <td>10.000000</td>\n",
       "      <td>10.000000</td>\n",
       "      <td>10.000000</td>\n",
       "      <td>10.000000</td>\n",
       "      <td>10.000000</td>\n",
       "      <td>10.000000</td>\n",
       "      <td>10.000000</td>\n",
       "      <td>10.000000</td>\n",
       "      <td>10.000000</td>\n",
       "      <td>10.000000</td>\n",
       "      <td>...</td>\n",
       "      <td>10.0</td>\n",
       "      <td>10.000000</td>\n",
       "      <td>10.000000</td>\n",
       "      <td>10.000000</td>\n",
       "      <td>10.0</td>\n",
       "      <td>10.000000</td>\n",
       "      <td>10.0</td>\n",
       "      <td>10.0</td>\n",
       "      <td>10.0</td>\n",
       "      <td>10.000000</td>\n",
       "    </tr>\n",
       "    <tr>\n",
       "      <th>mean</th>\n",
       "      <td>0.001323</td>\n",
       "      <td>0.001378</td>\n",
       "      <td>0.003231</td>\n",
       "      <td>0.000981</td>\n",
       "      <td>0.001586</td>\n",
       "      <td>0.002861</td>\n",
       "      <td>0.000965</td>\n",
       "      <td>0.003613</td>\n",
       "      <td>0.001945</td>\n",
       "      <td>0.002949</td>\n",
       "      <td>...</td>\n",
       "      <td>0.0</td>\n",
       "      <td>0.100000</td>\n",
       "      <td>0.100000</td>\n",
       "      <td>0.100000</td>\n",
       "      <td>0.0</td>\n",
       "      <td>0.400000</td>\n",
       "      <td>0.0</td>\n",
       "      <td>0.0</td>\n",
       "      <td>0.0</td>\n",
       "      <td>0.100000</td>\n",
       "    </tr>\n",
       "    <tr>\n",
       "      <th>std</th>\n",
       "      <td>0.000967</td>\n",
       "      <td>0.001930</td>\n",
       "      <td>0.002671</td>\n",
       "      <td>0.001001</td>\n",
       "      <td>0.001267</td>\n",
       "      <td>0.002186</td>\n",
       "      <td>0.000809</td>\n",
       "      <td>0.002370</td>\n",
       "      <td>0.001667</td>\n",
       "      <td>0.002110</td>\n",
       "      <td>...</td>\n",
       "      <td>0.0</td>\n",
       "      <td>0.316228</td>\n",
       "      <td>0.316228</td>\n",
       "      <td>0.316228</td>\n",
       "      <td>0.0</td>\n",
       "      <td>0.516398</td>\n",
       "      <td>0.0</td>\n",
       "      <td>0.0</td>\n",
       "      <td>0.0</td>\n",
       "      <td>0.316228</td>\n",
       "    </tr>\n",
       "    <tr>\n",
       "      <th>min</th>\n",
       "      <td>0.000000</td>\n",
       "      <td>0.000000</td>\n",
       "      <td>0.000000</td>\n",
       "      <td>0.000279</td>\n",
       "      <td>0.000372</td>\n",
       "      <td>0.000000</td>\n",
       "      <td>0.000000</td>\n",
       "      <td>0.000000</td>\n",
       "      <td>0.000000</td>\n",
       "      <td>0.000000</td>\n",
       "      <td>...</td>\n",
       "      <td>0.0</td>\n",
       "      <td>0.000000</td>\n",
       "      <td>0.000000</td>\n",
       "      <td>0.000000</td>\n",
       "      <td>0.0</td>\n",
       "      <td>0.000000</td>\n",
       "      <td>0.0</td>\n",
       "      <td>0.0</td>\n",
       "      <td>0.0</td>\n",
       "      <td>0.000000</td>\n",
       "    </tr>\n",
       "    <tr>\n",
       "      <th>25%</th>\n",
       "      <td>0.000600</td>\n",
       "      <td>0.000340</td>\n",
       "      <td>0.000619</td>\n",
       "      <td>0.000348</td>\n",
       "      <td>0.000719</td>\n",
       "      <td>0.001507</td>\n",
       "      <td>0.000340</td>\n",
       "      <td>0.002260</td>\n",
       "      <td>0.000093</td>\n",
       "      <td>0.001762</td>\n",
       "      <td>...</td>\n",
       "      <td>0.0</td>\n",
       "      <td>0.000000</td>\n",
       "      <td>0.000000</td>\n",
       "      <td>0.000000</td>\n",
       "      <td>0.0</td>\n",
       "      <td>0.000000</td>\n",
       "      <td>0.0</td>\n",
       "      <td>0.0</td>\n",
       "      <td>0.0</td>\n",
       "      <td>0.000000</td>\n",
       "    </tr>\n",
       "    <tr>\n",
       "      <th>50%</th>\n",
       "      <td>0.001189</td>\n",
       "      <td>0.000474</td>\n",
       "      <td>0.003603</td>\n",
       "      <td>0.000605</td>\n",
       "      <td>0.001359</td>\n",
       "      <td>0.002135</td>\n",
       "      <td>0.000882</td>\n",
       "      <td>0.003219</td>\n",
       "      <td>0.002505</td>\n",
       "      <td>0.002645</td>\n",
       "      <td>...</td>\n",
       "      <td>0.0</td>\n",
       "      <td>0.000000</td>\n",
       "      <td>0.000000</td>\n",
       "      <td>0.000000</td>\n",
       "      <td>0.0</td>\n",
       "      <td>0.000000</td>\n",
       "      <td>0.0</td>\n",
       "      <td>0.0</td>\n",
       "      <td>0.0</td>\n",
       "      <td>0.000000</td>\n",
       "    </tr>\n",
       "    <tr>\n",
       "      <th>75%</th>\n",
       "      <td>0.002065</td>\n",
       "      <td>0.002014</td>\n",
       "      <td>0.004682</td>\n",
       "      <td>0.001036</td>\n",
       "      <td>0.001646</td>\n",
       "      <td>0.004743</td>\n",
       "      <td>0.001386</td>\n",
       "      <td>0.004076</td>\n",
       "      <td>0.003397</td>\n",
       "      <td>0.004755</td>\n",
       "      <td>...</td>\n",
       "      <td>0.0</td>\n",
       "      <td>0.000000</td>\n",
       "      <td>0.000000</td>\n",
       "      <td>0.000000</td>\n",
       "      <td>0.0</td>\n",
       "      <td>1.000000</td>\n",
       "      <td>0.0</td>\n",
       "      <td>0.0</td>\n",
       "      <td>0.0</td>\n",
       "      <td>0.000000</td>\n",
       "    </tr>\n",
       "    <tr>\n",
       "      <th>max</th>\n",
       "      <td>0.002976</td>\n",
       "      <td>0.006324</td>\n",
       "      <td>0.007422</td>\n",
       "      <td>0.003516</td>\n",
       "      <td>0.003906</td>\n",
       "      <td>0.006114</td>\n",
       "      <td>0.002378</td>\n",
       "      <td>0.008185</td>\n",
       "      <td>0.003646</td>\n",
       "      <td>0.006138</td>\n",
       "      <td>...</td>\n",
       "      <td>0.0</td>\n",
       "      <td>1.000000</td>\n",
       "      <td>1.000000</td>\n",
       "      <td>1.000000</td>\n",
       "      <td>0.0</td>\n",
       "      <td>1.000000</td>\n",
       "      <td>0.0</td>\n",
       "      <td>0.0</td>\n",
       "      <td>0.0</td>\n",
       "      <td>1.000000</td>\n",
       "    </tr>\n",
       "  </tbody>\n",
       "</table>\n",
       "<p>8 rows × 519 columns</p>\n",
       "</div>"
      ],
      "text/plain": [
       "            dim1       dim2       dim3       dim4       dim5       dim6  \\\n",
       "count  10.000000  10.000000  10.000000  10.000000  10.000000  10.000000   \n",
       "mean    0.001323   0.001378   0.003231   0.000981   0.001586   0.002861   \n",
       "std     0.000967   0.001930   0.002671   0.001001   0.001267   0.002186   \n",
       "min     0.000000   0.000000   0.000000   0.000279   0.000372   0.000000   \n",
       "25%     0.000600   0.000340   0.000619   0.000348   0.000719   0.001507   \n",
       "50%     0.001189   0.000474   0.003603   0.000605   0.001359   0.002135   \n",
       "75%     0.002065   0.002014   0.004682   0.001036   0.001646   0.004743   \n",
       "max     0.002976   0.006324   0.007422   0.003516   0.003906   0.006114   \n",
       "\n",
       "            dim7       dim8       dim9      dim10      ...       is_cow  \\\n",
       "count  10.000000  10.000000  10.000000  10.000000      ...         10.0   \n",
       "mean    0.000965   0.003613   0.001945   0.002949      ...          0.0   \n",
       "std     0.000809   0.002370   0.001667   0.002110      ...          0.0   \n",
       "min     0.000000   0.000000   0.000000   0.000000      ...          0.0   \n",
       "25%     0.000340   0.002260   0.000093   0.001762      ...          0.0   \n",
       "50%     0.000882   0.003219   0.002505   0.002645      ...          0.0   \n",
       "75%     0.001386   0.004076   0.003397   0.004755      ...          0.0   \n",
       "max     0.002378   0.008185   0.003646   0.006138      ...          0.0   \n",
       "\n",
       "       is_diningtable     is_dog   is_horse  is_motorbike  is_person  \\\n",
       "count       10.000000  10.000000  10.000000          10.0  10.000000   \n",
       "mean         0.100000   0.100000   0.100000           0.0   0.400000   \n",
       "std          0.316228   0.316228   0.316228           0.0   0.516398   \n",
       "min          0.000000   0.000000   0.000000           0.0   0.000000   \n",
       "25%          0.000000   0.000000   0.000000           0.0   0.000000   \n",
       "50%          0.000000   0.000000   0.000000           0.0   0.000000   \n",
       "75%          0.000000   0.000000   0.000000           0.0   1.000000   \n",
       "max          1.000000   1.000000   1.000000           0.0   1.000000   \n",
       "\n",
       "       is_pottedplant  is_sheep  is_sofa  is_tvmonitor  \n",
       "count            10.0      10.0     10.0     10.000000  \n",
       "mean              0.0       0.0      0.0      0.100000  \n",
       "std               0.0       0.0      0.0      0.316228  \n",
       "min               0.0       0.0      0.0      0.000000  \n",
       "25%               0.0       0.0      0.0      0.000000  \n",
       "50%               0.0       0.0      0.0      0.000000  \n",
       "75%               0.0       0.0      0.0      0.000000  \n",
       "max               0.0       0.0      0.0      1.000000  \n",
       "\n",
       "[8 rows x 519 columns]"
      ]
     },
     "execution_count": 41,
     "metadata": {},
     "output_type": "execute_result"
    }
   ],
   "source": [
    "# Loading dataset\n",
    "images_TB = os.path.join(os.getcwd(), 'datasets', 'train_images_partB.csv')\n",
    "train_B = pd.read_csv(images_TB)\n",
    "\n",
    "images_VB = os.path.join(os.getcwd(), 'datasets', 'valid_images_partB.csv')\n",
    "valid_B = pd.read_csv(images_VB)\n",
    "\n",
    "images_TestB = os.path.join(os.getcwd(), 'datasets', 'test_images_partB.csv')\n",
    "test_B = pd.read_csv(images_TestB)\n",
    "\n",
    "# Data points\n",
    "print('Data points for train_B: {}''\\n''Data points for valid_B: {}'.format(train_B.shape[0], valid_B.shape[0]))\n",
    "\n",
    "# Looking at the data\n",
    "train_A.head(10).describe()\n"
   ]
  },
  {
   "cell_type": "code",
   "execution_count": 42,
   "metadata": {},
   "outputs": [
    {
     "name": "stdout",
     "output_type": "stream",
     "text": [
      "Shapes for\n",
      "BX_tr: (2113, 500)\n",
      "BX_val: (1113, 500)\n",
      "By_tr: (2113,)\n",
      "By_val: (1113,)\n"
     ]
    }
   ],
   "source": [
    "#creating 4 numpy arrays to store the training and validation features, as well as the training and validation targets.\n",
    "BX_tr = np.array(train_B[attributes])\n",
    "BX_val = np.array(valid_B[attributes])\n",
    "BX_test = np.array(test_B[attributes])\n",
    "\n",
    "By_tr = np.array(train_B['is_person'].values)\n",
    "By_val = np.array(valid_B['is_person'].values) \n",
    "\n",
    "# Dimensionalities\n",
    "print('Shapes for''\\n''BX_tr: {}''\\n''BX_val: {}''\\n''By_tr: {}''\\n''By_val: {}'.format(BX_tr.shape, BX_val.shape, By_tr.shape, By_val.shape))"
   ]
  },
  {
   "cell_type": "code",
   "execution_count": 43,
   "metadata": {},
   "outputs": [
    {
     "data": {
      "text/plain": [
       "['dim1',\n",
       " 'dim2',\n",
       " 'dim3',\n",
       " 'dim4',\n",
       " 'dim5',\n",
       " 'dim6',\n",
       " 'dim7',\n",
       " 'dim8',\n",
       " 'dim9',\n",
       " 'dim10',\n",
       " 'dim11',\n",
       " 'dim12',\n",
       " 'dim13',\n",
       " 'dim14',\n",
       " 'dim15',\n",
       " 'dim16',\n",
       " 'dim17',\n",
       " 'dim18',\n",
       " 'dim19',\n",
       " 'dim20',\n",
       " 'dim21',\n",
       " 'dim22',\n",
       " 'dim23',\n",
       " 'dim24',\n",
       " 'dim25',\n",
       " 'dim26',\n",
       " 'dim27',\n",
       " 'dim28',\n",
       " 'dim29',\n",
       " 'dim30',\n",
       " 'dim31',\n",
       " 'dim32',\n",
       " 'dim33',\n",
       " 'dim34',\n",
       " 'dim35',\n",
       " 'dim36',\n",
       " 'dim37',\n",
       " 'dim38',\n",
       " 'dim39',\n",
       " 'dim40',\n",
       " 'dim41',\n",
       " 'dim42',\n",
       " 'dim43',\n",
       " 'dim44',\n",
       " 'dim45',\n",
       " 'dim46',\n",
       " 'dim47',\n",
       " 'dim48',\n",
       " 'dim49',\n",
       " 'dim50',\n",
       " 'dim51',\n",
       " 'dim52',\n",
       " 'dim53',\n",
       " 'dim54',\n",
       " 'dim55',\n",
       " 'dim56',\n",
       " 'dim57',\n",
       " 'dim58',\n",
       " 'dim59',\n",
       " 'dim60',\n",
       " 'dim61',\n",
       " 'dim62',\n",
       " 'dim63',\n",
       " 'dim64',\n",
       " 'dim65',\n",
       " 'dim66',\n",
       " 'dim67',\n",
       " 'dim68',\n",
       " 'dim69',\n",
       " 'dim70',\n",
       " 'dim71',\n",
       " 'dim72',\n",
       " 'dim73',\n",
       " 'dim74',\n",
       " 'dim75',\n",
       " 'dim76',\n",
       " 'dim77',\n",
       " 'dim78',\n",
       " 'dim79',\n",
       " 'dim80',\n",
       " 'dim81',\n",
       " 'dim82',\n",
       " 'dim83',\n",
       " 'dim84',\n",
       " 'dim85',\n",
       " 'dim86',\n",
       " 'dim87',\n",
       " 'dim88',\n",
       " 'dim89',\n",
       " 'dim90',\n",
       " 'dim91',\n",
       " 'dim92',\n",
       " 'dim93',\n",
       " 'dim94',\n",
       " 'dim95',\n",
       " 'dim96',\n",
       " 'dim97',\n",
       " 'dim98',\n",
       " 'dim99',\n",
       " 'dim100',\n",
       " 'dim101',\n",
       " 'dim102',\n",
       " 'dim103',\n",
       " 'dim104',\n",
       " 'dim105',\n",
       " 'dim106',\n",
       " 'dim107',\n",
       " 'dim108',\n",
       " 'dim109',\n",
       " 'dim110',\n",
       " 'dim111',\n",
       " 'dim112',\n",
       " 'dim113',\n",
       " 'dim114',\n",
       " 'dim115',\n",
       " 'dim116',\n",
       " 'dim117',\n",
       " 'dim118',\n",
       " 'dim119',\n",
       " 'dim120',\n",
       " 'dim121',\n",
       " 'dim122',\n",
       " 'dim123',\n",
       " 'dim124',\n",
       " 'dim125',\n",
       " 'dim126',\n",
       " 'dim127',\n",
       " 'dim128',\n",
       " 'dim129',\n",
       " 'dim130',\n",
       " 'dim131',\n",
       " 'dim132',\n",
       " 'dim133',\n",
       " 'dim134',\n",
       " 'dim135',\n",
       " 'dim136',\n",
       " 'dim137',\n",
       " 'dim138',\n",
       " 'dim139',\n",
       " 'dim140',\n",
       " 'dim141',\n",
       " 'dim142',\n",
       " 'dim143',\n",
       " 'dim144',\n",
       " 'dim145',\n",
       " 'dim146',\n",
       " 'dim147',\n",
       " 'dim148',\n",
       " 'dim149',\n",
       " 'dim150',\n",
       " 'dim151',\n",
       " 'dim152',\n",
       " 'dim153',\n",
       " 'dim154',\n",
       " 'dim155',\n",
       " 'dim156',\n",
       " 'dim157',\n",
       " 'dim158',\n",
       " 'dim159',\n",
       " 'dim160',\n",
       " 'dim161',\n",
       " 'dim162',\n",
       " 'dim163',\n",
       " 'dim164',\n",
       " 'dim165',\n",
       " 'dim166',\n",
       " 'dim167',\n",
       " 'dim168',\n",
       " 'dim169',\n",
       " 'dim170',\n",
       " 'dim171',\n",
       " 'dim172',\n",
       " 'dim173',\n",
       " 'dim174',\n",
       " 'dim175',\n",
       " 'dim176',\n",
       " 'dim177',\n",
       " 'dim178',\n",
       " 'dim179',\n",
       " 'dim180',\n",
       " 'dim181',\n",
       " 'dim182',\n",
       " 'dim183',\n",
       " 'dim184',\n",
       " 'dim185',\n",
       " 'dim186',\n",
       " 'dim187',\n",
       " 'dim188',\n",
       " 'dim189',\n",
       " 'dim190',\n",
       " 'dim191',\n",
       " 'dim192',\n",
       " 'dim193',\n",
       " 'dim194',\n",
       " 'dim195',\n",
       " 'dim196',\n",
       " 'dim197',\n",
       " 'dim198',\n",
       " 'dim199',\n",
       " 'dim200',\n",
       " 'dim201',\n",
       " 'dim202',\n",
       " 'dim203',\n",
       " 'dim204',\n",
       " 'dim205',\n",
       " 'dim206',\n",
       " 'dim207',\n",
       " 'dim208',\n",
       " 'dim209',\n",
       " 'dim210',\n",
       " 'dim211',\n",
       " 'dim212',\n",
       " 'dim213',\n",
       " 'dim214',\n",
       " 'dim215',\n",
       " 'dim216',\n",
       " 'dim217',\n",
       " 'dim218',\n",
       " 'dim219',\n",
       " 'dim220',\n",
       " 'dim221',\n",
       " 'dim222',\n",
       " 'dim223',\n",
       " 'dim224',\n",
       " 'dim225',\n",
       " 'dim226',\n",
       " 'dim227',\n",
       " 'dim228',\n",
       " 'dim229',\n",
       " 'dim230',\n",
       " 'dim231',\n",
       " 'dim232',\n",
       " 'dim233',\n",
       " 'dim234',\n",
       " 'dim235',\n",
       " 'dim236',\n",
       " 'dim237',\n",
       " 'dim238',\n",
       " 'dim239',\n",
       " 'dim240',\n",
       " 'dim241',\n",
       " 'dim242',\n",
       " 'dim243',\n",
       " 'dim244',\n",
       " 'dim245',\n",
       " 'dim246',\n",
       " 'dim247',\n",
       " 'dim248',\n",
       " 'dim249',\n",
       " 'dim250',\n",
       " 'dim251',\n",
       " 'dim252',\n",
       " 'dim253',\n",
       " 'dim254',\n",
       " 'dim255',\n",
       " 'dim256',\n",
       " 'dim257',\n",
       " 'dim258',\n",
       " 'dim259',\n",
       " 'dim260',\n",
       " 'dim261',\n",
       " 'dim262',\n",
       " 'dim263',\n",
       " 'dim264',\n",
       " 'dim265',\n",
       " 'dim266',\n",
       " 'dim267',\n",
       " 'dim268',\n",
       " 'dim269',\n",
       " 'dim270',\n",
       " 'dim271',\n",
       " 'dim272',\n",
       " 'dim273',\n",
       " 'dim274',\n",
       " 'dim275',\n",
       " 'dim276',\n",
       " 'dim277',\n",
       " 'dim278',\n",
       " 'dim279',\n",
       " 'dim280',\n",
       " 'dim281',\n",
       " 'dim282',\n",
       " 'dim283',\n",
       " 'dim284',\n",
       " 'dim285',\n",
       " 'dim286',\n",
       " 'dim287',\n",
       " 'dim288',\n",
       " 'dim289',\n",
       " 'dim290',\n",
       " 'dim291',\n",
       " 'dim292',\n",
       " 'dim293',\n",
       " 'dim294',\n",
       " 'dim295',\n",
       " 'dim296',\n",
       " 'dim297',\n",
       " 'dim298',\n",
       " 'dim299',\n",
       " 'dim300',\n",
       " 'dim301',\n",
       " 'dim302',\n",
       " 'dim303',\n",
       " 'dim304',\n",
       " 'dim305',\n",
       " 'dim306',\n",
       " 'dim307',\n",
       " 'dim308',\n",
       " 'dim309',\n",
       " 'dim310',\n",
       " 'dim311',\n",
       " 'dim312',\n",
       " 'dim313',\n",
       " 'dim314',\n",
       " 'dim315',\n",
       " 'dim316',\n",
       " 'dim317',\n",
       " 'dim318',\n",
       " 'dim319',\n",
       " 'dim320',\n",
       " 'dim321',\n",
       " 'dim322',\n",
       " 'dim323',\n",
       " 'dim324',\n",
       " 'dim325',\n",
       " 'dim326',\n",
       " 'dim327',\n",
       " 'dim328',\n",
       " 'dim329',\n",
       " 'dim330',\n",
       " 'dim331',\n",
       " 'dim332',\n",
       " 'dim333',\n",
       " 'dim334',\n",
       " 'dim335',\n",
       " 'dim336',\n",
       " 'dim337',\n",
       " 'dim338',\n",
       " 'dim339',\n",
       " 'dim340',\n",
       " 'dim341',\n",
       " 'dim342',\n",
       " 'dim343',\n",
       " 'dim344',\n",
       " 'dim345',\n",
       " 'dim346',\n",
       " 'dim347',\n",
       " 'dim348',\n",
       " 'dim349',\n",
       " 'dim350',\n",
       " 'dim351',\n",
       " 'dim352',\n",
       " 'dim353',\n",
       " 'dim354',\n",
       " 'dim355',\n",
       " 'dim356',\n",
       " 'dim357',\n",
       " 'dim358',\n",
       " 'dim359',\n",
       " 'dim360',\n",
       " 'dim361',\n",
       " 'dim362',\n",
       " 'dim363',\n",
       " 'dim364',\n",
       " 'dim365',\n",
       " 'dim366',\n",
       " 'dim367',\n",
       " 'dim368',\n",
       " 'dim369',\n",
       " 'dim370',\n",
       " 'dim371',\n",
       " 'dim372',\n",
       " 'dim373',\n",
       " 'dim374',\n",
       " 'dim375',\n",
       " 'dim376',\n",
       " 'dim377',\n",
       " 'dim378',\n",
       " 'dim379',\n",
       " 'dim380',\n",
       " 'dim381',\n",
       " 'dim382',\n",
       " 'dim383',\n",
       " 'dim384',\n",
       " 'dim385',\n",
       " 'dim386',\n",
       " 'dim387',\n",
       " 'dim388',\n",
       " 'dim389',\n",
       " 'dim390',\n",
       " 'dim391',\n",
       " 'dim392',\n",
       " 'dim393',\n",
       " 'dim394',\n",
       " 'dim395',\n",
       " 'dim396',\n",
       " 'dim397',\n",
       " 'dim398',\n",
       " 'dim399',\n",
       " 'dim400',\n",
       " 'dim401',\n",
       " 'dim402',\n",
       " 'dim403',\n",
       " 'dim404',\n",
       " 'dim405',\n",
       " 'dim406',\n",
       " 'dim407',\n",
       " 'dim408',\n",
       " 'dim409',\n",
       " 'dim410',\n",
       " 'dim411',\n",
       " 'dim412',\n",
       " 'dim413',\n",
       " 'dim414',\n",
       " 'dim415',\n",
       " 'dim416',\n",
       " 'dim417',\n",
       " 'dim418',\n",
       " 'dim419',\n",
       " 'dim420',\n",
       " 'dim421',\n",
       " 'dim422',\n",
       " 'dim423',\n",
       " 'dim424',\n",
       " 'dim425',\n",
       " 'dim426',\n",
       " 'dim427',\n",
       " 'dim428',\n",
       " 'dim429',\n",
       " 'dim430',\n",
       " 'dim431',\n",
       " 'dim432',\n",
       " 'dim433',\n",
       " 'dim434',\n",
       " 'dim435',\n",
       " 'dim436',\n",
       " 'dim437',\n",
       " 'dim438',\n",
       " 'dim439',\n",
       " 'dim440',\n",
       " 'dim441',\n",
       " 'dim442',\n",
       " 'dim443',\n",
       " 'dim444',\n",
       " 'dim445',\n",
       " 'dim446',\n",
       " 'dim447',\n",
       " 'dim448',\n",
       " 'dim449',\n",
       " 'dim450',\n",
       " 'dim451',\n",
       " 'dim452',\n",
       " 'dim453',\n",
       " 'dim454',\n",
       " 'dim455',\n",
       " 'dim456',\n",
       " 'dim457',\n",
       " 'dim458',\n",
       " 'dim459',\n",
       " 'dim460',\n",
       " 'dim461',\n",
       " 'dim462',\n",
       " 'dim463',\n",
       " 'dim464',\n",
       " 'dim465',\n",
       " 'dim466',\n",
       " 'dim467',\n",
       " 'dim468',\n",
       " 'dim469',\n",
       " 'dim470',\n",
       " 'dim471',\n",
       " 'dim472',\n",
       " 'dim473',\n",
       " 'dim474',\n",
       " 'dim475',\n",
       " 'dim476',\n",
       " 'dim477',\n",
       " 'dim478',\n",
       " 'dim479',\n",
       " 'dim480',\n",
       " 'dim481',\n",
       " 'dim482',\n",
       " 'dim483',\n",
       " 'dim484',\n",
       " 'dim485',\n",
       " 'dim486',\n",
       " 'dim487',\n",
       " 'dim488',\n",
       " 'dim489',\n",
       " 'dim490',\n",
       " 'dim491',\n",
       " 'dim492',\n",
       " 'dim493',\n",
       " 'dim494',\n",
       " 'dim495',\n",
       " 'dim496',\n",
       " 'dim497',\n",
       " 'dim498',\n",
       " 'dim499',\n",
       " 'dim500']"
      ]
     },
     "execution_count": 43,
     "metadata": {},
     "output_type": "execute_result"
    }
   ],
   "source": [
    "#train_B.values.tolist()[:500]\n",
    "names_of_B = train_B.columns.values[1 : 501] \n",
    "B_attributes = names_of_B.tolist()\n",
    "B_attributes"
   ]
  },
  {
   "cell_type": "code",
   "execution_count": 44,
   "metadata": {},
   "outputs": [
    {
     "data": {
      "image/png": "[encoded data removed]",
      "text/plain": [
       "<matplotlib.figure.Figure at 0x7f009d3173d0>"
      ]
     },
     "metadata": {},
     "output_type": "display_data"
    }
   ],
   "source": [
    "# Plotting training and validation targets - getting a feel of the data\n",
    "fig, (ax1, ax2) = plt.subplots(1, 2, figsize=(8,4))\n",
    "sns.countplot(By_tr, ax=ax1, palette=\"Set3\")\n",
    "ax1.set_title('Training', size=12)\n",
    "ax1.set_xlabel(' ')\n",
    "sns.countplot(By_val, ax=ax2, palette=\"Set2\")\n",
    "ax2.set_xlabel(' ')\n",
    "ax2.set_ylabel('')\n",
    "ax2.set_title('Validation', size=12)\n",
    "fig.suptitle('Targets', size=12, fontweight = 'bold')\n",
    "\n",
    "# Using xticklabels\n",
    "the_labels = ['feature vectors', 'is_person']\n",
    "\n",
    "ax1.set_xticklabels(the_labels)\n",
    "ax2.set_xticklabels(the_labels)\n",
    "\n",
    "plt.show()"
   ]
  },
  {
   "cell_type": "code",
   "execution_count": 45,
   "metadata": {},
   "outputs": [
    {
     "name": "stdout",
     "output_type": "stream",
     "text": [
      "Classification accuracy for baseline DummyClassifier: 16.3539399462\n"
     ]
    }
   ],
   "source": [
    "# Initializing a baseline\n",
    "baseline_c = DummyClassifier(strategy=\"most_frequent\")\n",
    "baseline = baseline_c.fit(BX_tr, By_tr)\n",
    "\n",
    "print('Classification accuracy for baseline DummyClassifier: {}'.format(log_loss(By_val, baseline.predict_proba(BX_val))))\n"
   ]
  },
  {
   "cell_type": "code",
   "execution_count": 46,
   "metadata": {},
   "outputs": [
    {
     "name": "stdout",
     "output_type": "stream",
     "text": [
      "Mean for first 5 features in the training set:\n",
      "[ 0.04335278  0.05082978  0.04798776  0.03741056  0.04336504]\n",
      "\n",
      "Std. Dev for first 5 features in the training set:\n",
      "[ 0.51313883  0.58270116  0.48205233  0.46450079  0.49107059]\n"
     ]
    }
   ],
   "source": [
    "# Mean and Std. dev for training set, first 5 features\n",
    "print('Mean for first 5 features in the training set:\\n{}'.format(BX_tr.mean(axis=0)[0:5]))\n",
    "print()\n",
    "print('Std. Dev for first 5 features in the training set:\\n{}'.format(BX_tr.std(axis=0)[0:5]))"
   ]
  },
  {
   "cell_type": "code",
   "execution_count": 47,
   "metadata": {},
   "outputs": [
    {
     "name": "stdout",
     "output_type": "stream",
     "text": [
      "Mean for first 5 features in the transformed training set:\n",
      "[ -1.34508800e-17   8.40680000e-18   2.10170000e-18  -4.20340000e-18\n",
      "  -3.36272000e-18]\n",
      "\n",
      "Std. Dev for first 5 features in the transformed validation set:\n",
      "[ 0.00235501  0.00234014  0.00803716  0.00304919  0.0031713 ]\n"
     ]
    }
   ],
   "source": [
    "# Now let's start feature engineering \\(O.O)/\n",
    "\n",
    "# Instantiate StandardScaler and fit using training features\n",
    "standard_scaler = StandardScaler().fit(BX_tr)\n",
    "\n",
    "# Feature standardisation for training and validation features\n",
    "BX_tr = standard_scaler.transform(BX_tr)\n",
    "BX_val = standard_scaler.transform(BX_val)\n",
    "BX_test = standard_scaler.transform(BX_test)\n",
    "\n",
    "# Mean and Std. dev for transformed training set, first 5 features\n",
    "print('Mean for first 5 features in the transformed training set:\\n{}'.format(BX_tr.mean(axis=0)[0:5]))\n",
    "print()\n",
    "print('Std. Dev for first 5 features in the transformed validation set:\\n{}'.format(BX_val.std(axis=0)[0:5]))"
   ]
  },
  {
   "cell_type": "code",
   "execution_count": 48,
   "metadata": {},
   "outputs": [
    {
     "data": {
      "text/plain": [
       "5"
      ]
     },
     "execution_count": 48,
     "metadata": {},
     "output_type": "execute_result"
    }
   ],
   "source": [
    "# Cross Validation\n",
    "\n",
    "kf = KFold(n_splits=5, random_state=0, shuffle=True)\n",
    "kf.get_n_splits(train_B)\n"
   ]
  },
  {
   "cell_type": "code",
   "execution_count": 49,
   "metadata": {},
   "outputs": [
    {
     "name": "stdout",
     "output_type": "stream",
     "text": [
      "Log loss with Linear SVM\n",
      "Training sets: 16.3539399462\n",
      "Validation sets: 16.3539399462\n",
      "\n",
      "Log loss with Radial Basis SVM\n",
      "Training sets: 0.69308648827\n",
      "Validation sets: 0.69308648827\n",
      "\n",
      "Log loss with Polynomial SVM\n",
      "Training sets: 0.692955180862\n",
      "Validation sets: 0.692955180862\n"
     ]
    }
   ],
   "source": [
    "# 1st try with SVMs\n",
    "\n",
    "# Linear SVM\n",
    "svc_linear2 = SVC(kernel = 'linear', probability=True)\n",
    "svc_linear2.fit(BX_tr, By_tr)\n",
    "\n",
    "print('Log loss with Linear SVM')\n",
    "print('Training sets: {}'.format(log_loss(By_val, svc_linear2.predict(BX_val))))\n",
    "print('Validation sets: {}'.format(log_loss(By_val, svc_linear2.predict(BX_val))))\n",
    "print()\n",
    "\n",
    "# Radial Basis SVM\n",
    "svc_rbf2 = SVC(kernel='rbf', probability=True,)\n",
    "svc_rbf2.fit(BX_tr, By_tr)\n",
    "\n",
    "print('Log loss with Radial Basis SVM')\n",
    "print('Training sets: {}'.format(log_loss(By_val, svc_rbf2.predict_proba(BX_val))))\n",
    "print('Validation sets: {}'.format(log_loss(By_val, svc_rbf2.predict_proba(BX_val))))\n",
    "print()\n",
    "\n",
    "# Polynomial SVM\n",
    "svc_poly2 = SVC(kernel='poly', probability=True)\n",
    "svc_poly2.fit(BX_tr, By_tr)\n",
    "\n",
    "print('Log loss with Polynomial SVM')\n",
    "print('Training sets: {}'.format(log_loss(By_val, svc_poly2.predict_proba(BX_val))))\n",
    "print('Validation sets: {}'.format(log_loss(By_val, svc_poly2.predict_proba(BX_val))))\n",
    "\n",
    "#svc_rbf2.predict(BX_test)"
   ]
  },
  {
   "cell_type": "code",
   "execution_count": 50,
   "metadata": {},
   "outputs": [
    {
     "name": "stdout",
     "output_type": "stream",
     "text": [
      "Log loss for Gaussian Naive Bayes: 18.1848364487\n"
     ]
    }
   ],
   "source": [
    "# 2nd try with Gaussian Naive Bayes\n",
    "\n",
    "G_nb = GaussianNB()\n",
    "G_nb.fit(BX_tr, By_tr)\n",
    "\n",
    "gnb_ll = log_loss(By_val, G_nb.predict_proba(BX_val))\n",
    "print('Log loss for Gaussian Naive Bayes: {}'.format(gnb_ll))"
   ]
  },
  {
   "cell_type": "code",
   "execution_count": 51,
   "metadata": {},
   "outputs": [
    {
     "name": "stdout",
     "output_type": "stream",
     "text": [
      "Log loss for Random Forest: 0.58247660387\n"
     ]
    }
   ],
   "source": [
    "# 3rd try with Random Forest\n",
    "\n",
    "rf = RandomForestClassifier(n_estimators = 5000, criterion= 'entropy', random_state=42).fit(BX_tr, By_tr)\n",
    "\n",
    "rf_ll = log_loss(By_val, rf.predict_proba(BX_val))\n",
    "print('Log loss for Random Forest: {}'.format(rf_ll))"
   ]
  },
  {
   "cell_type": "code",
   "execution_count": 52,
   "metadata": {},
   "outputs": [
    {
     "name": "stdout",
     "output_type": "stream",
     "text": [
      "Log loss for Decision Tree: 14.3678827231\n"
     ]
    }
   ],
   "source": [
    "# 4th try with Decision Tree \n",
    "\n",
    "DT = DecisionTreeClassifier(random_state=0).fit(BX_tr, By_tr)\n",
    "\n",
    "DT_ll = log_loss(By_val, DT.predict_proba(BX_val))\n",
    "print('Log loss for Decision Tree: {}'.format(DT_ll))"
   ]
  },
  {
   "cell_type": "code",
   "execution_count": 53,
   "metadata": {},
   "outputs": [
    {
     "name": "stdout",
     "output_type": "stream",
     "text": [
      "Log loss for Extra Trees: 0.753134240373\n"
     ]
    }
   ],
   "source": [
    "#5th try with Extra Trees Classifier\n",
    "\n",
    "ET = ExtraTreesClassifier(n_estimators=10, max_depth=None, min_samples_split=2, random_state=0).fit(BX_tr, By_tr)\n",
    "\n",
    "ET_ll = log_loss(By_val, ET.predict_proba(BX_val))\n",
    "print('Log loss for Extra Trees: {}'.format(ET_ll))"
   ]
  },
  {
   "cell_type": "code",
   "execution_count": 54,
   "metadata": {},
   "outputs": [
    {
     "name": "stdout",
     "output_type": "stream",
     "text": [
      "Log loss for Extra Trees: 7.05148333976\n"
     ]
    }
   ],
   "source": [
    "# 6th try with nearest neighbours \n",
    "\n",
    "NN = KNeighborsClassifier(n_neighbors=2, algorithm='ball_tree').fit(BX_tr, By_tr)\n",
    "\n",
    "NN_ll = log_loss(By_val, NN.predict_proba(BX_val))\n",
    "print('Log loss for Extra Trees: {}'.format(NN_ll))"
   ]
  },
  {
   "cell_type": "code",
   "execution_count": 55,
   "metadata": {},
   "outputs": [
    {
     "name": "stdout",
     "output_type": "stream",
     "text": [
      "Log loss for Ensemble: 0.627010041186\n"
     ]
    }
   ],
   "source": [
    "# 7th try with my own ensemble \n",
    "\n",
    "from sklearn.ensemble import VotingClassifier\n",
    "\n",
    "clf1 = SVC(kernel='poly', probability=True)\n",
    "clf2 = RandomForestClassifier(n_estimators = 5000).fit(BX_tr, By_tr)\n",
    "\n",
    "#VC = VotingClassifier(estimators=[('RBF_SVM', clf1), ('RandFor', clf2)])\n",
    "#VC = VC.fit(BX_tr, By_tr)\n",
    "#VC_ll = log_loss(By_val, VC.predict_proba(BX_val))\n",
    "#print('Log loss for Extra Trees: {}'.format(VC_ll))\n",
    "    \n",
    "VC2 = VotingClassifier(estimators=[('RBF_SVM', clf1), ('RandFor', clf2)], voting='soft')\n",
    "VC2 = VC2.fit(BX_tr, By_tr)\n",
    "VC2_ll = log_loss(By_val, VC2.predict_proba(BX_val))\n",
    "print('Log loss for Ensemble: {}'.format(VC2_ll))\n",
    "   "
   ]
  },
  {
   "cell_type": "code",
   "execution_count": 56,
   "metadata": {},
   "outputs": [
    {
     "name": "stdout",
     "output_type": "stream",
     "text": [
      "Prediction for Random Forest: [[ 0.8296  0.1704]\n",
      " [ 0.7956  0.2044]\n",
      " [ 0.47    0.53  ]\n",
      " ..., \n",
      " [ 0.535   0.465 ]\n",
      " [ 0.6052  0.3948]\n",
      " [ 0.427   0.573 ]]\n"
     ]
    },
    {
     "data": {
      "text/plain": [
       "(1114, 2)"
      ]
     },
     "execution_count": 56,
     "metadata": {},
     "output_type": "execute_result"
    }
   ],
   "source": [
    "# Running it on the test set \n",
    "\n",
    "rf_ll_t = rf.predict_proba(BX_test)\n",
    "print('Prediction for Random Forest: {}'.format(rf_ll_t))\n",
    "rf_ll_t.shape"
   ]
  },
  {
   "cell_type": "code",
   "execution_count": 57,
   "metadata": {
    "collapsed": true
   },
   "outputs": [],
   "source": [
    "# Execute this cell to export your results\n",
    "from numpy import savetxt\n",
    "def save_predictions(pred_proba):\n",
    "    if pred_proba.shape != (1114,2):\n",
    "        raise ValueError('Predicted probabilities array is not the right shape.')\n",
    "    \n",
    "    savetxt('assignment_3_predictions.txt', pred_proba)\n",
    "\n",
    "# You need to replace \"test_images_partB_pred_proba\"\n",
    "# with the name of the array which contains the probability \n",
    "# estimates for the data in the test set.\n",
    "save_predictions(rf_ll_t) "
   ]
  },
  {
   "cell_type": "markdown",
   "metadata": {
    "collapsed": true
   },
   "source": [
    "# Appendix"
   ]
  },
  {
   "cell_type": "markdown",
   "metadata": {},
   "source": [
    "## More information about visual words"
   ]
  },
  {
   "cell_type": "markdown",
   "metadata": {},
   "source": [
    "Visual words are based on [Scale-invariant feature transforms (SIFT)](https://en.wikipedia.org/wiki/Scale-invariant_feature_transform). SIFT features are essentially local orientation histograms and capture the properties of small image regions. They possess attractive invariance properties which make them well suited for our task (you can read more about SIFT features in [D.Lowe, IJCV 60(2):91- 110, 2004](http://link.springer.com/article/10.1023/B:VISI.0000029664.99615.94), but the details don't matter for the purpose of this assignment). Each SIFT feature is a 128 dimensional vector. From each image many SIFT features are extracted, typically > 2500 per image (features are extracted at regular intervals using a 15 pixel grid and at 4 different scales). To obtain visual words a representative subset of all extracted SIFT features from all images is chosen and clustered with k-means using 500 centres (such use of the k-means algorithm will be discussed in detail during the lecture). These 500 cluster centres form our visual words. The representation of a single image is obtained by first assigning each SIFT feature extracted from the image to the appropriate cluster (i.e. we determine the visual word corresponding to each feature by picking the closest cluster centre). We then count the number of features from that image assigned to each cluster (i.e. we determine how often each visual word is present in the image). This results in a 500 dimensional count vector for each image (one dimension for each visual word). The normalized version of this count vector gives the final representation of the image (normalized means that we divide the count vector by the total number of visual words in the image, i.e. the normalized counts sum to 1 for each image)"
   ]
  }
 ],
 "metadata": {
  "anaconda-cloud": {},
  "kernelspec": {
   "display_name": "Python 2",
   "language": "python",
   "name": "python2"
  },
  "language_info": {
   "codemirror_mode": {
    "name": "ipython",
    "version": 2
   },
   "file_extension": ".py",
   "mimetype": "text/x-python",
   "name": "python",
   "nbconvert_exporter": "python",
   "pygments_lexer": "ipython2",
   "version": "2.7.13"
  }
 },
 "nbformat": 4,
 "nbformat_minor": 1
}
